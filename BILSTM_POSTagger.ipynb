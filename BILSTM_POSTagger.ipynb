{
  "cells": [
    {
      "cell_type": "markdown",
      "metadata": {
        "id": "view-in-github",
        "colab_type": "text"
      },
      "source": [
        "<a href=\"https://colab.research.google.com/github/pietrocima/POSTag/blob/main/BILSTM_POSTagger.ipynb\" target=\"_parent\"><img src=\"https://colab.research.google.com/assets/colab-badge.svg\" alt=\"Open In Colab\"/></a>"
      ]
    },
    {
      "cell_type": "markdown",
      "source": [
        "# 1- Introduction\n",
        "\n",
        "For our project we built an NLP system for Part-of-Speech tagging based on Bidirectional LSTM using the Pytorch library and datasets.\n",
        "\n",
        "The Part-of-Speech tagging task can be describe as: *given a sequence of words **w**, find the most probable part-of-speech tags sequence **t** associated to the input sequence*. Each token in the input sequence must be paired with a specific tag, and these tags aim at dividing the words in different lexical categories based on the syntactic role in the sentence, i.e. words that play similar role in the syntactic structure of the sentence should be labeld with the same tag.\n",
        "\n",
        "The complexity of the task lays in the fact that a high number of words, if taken independently, have many possible tags that can be correctly associated with them, and in order to find the correct tag of the word used in a given sentence, we must consider the context in which the word is used. This means that, in general, the POS tagging task is not just a classification task performed word by word, but consists of a structure prediction problem that can be solved with high accuracy only by working on the whole sentence.\n",
        "\n",
        "Below, an example of such task with data taken directly from the datasets we use for the models."
      ],
      "metadata": {
        "id": "DWZ0Er-w3Oo5"
      }
    },
    {
      "cell_type": "code",
      "source": [
        "print(\"Sequence of words:\")\n",
        "print(['al', '-', 'zaman', ':', 'american', 'forces', 'killed', 'shaikh', 'abdullah', 'al', '-', 'ani', ',', 'the', 'preacher', 'at', 'the', 'mosque', 'in', 'the', 'town', 'of', 'qaim', ',', 'near', 'the', 'syrian', 'border', '.'], '\\n')\n",
        "print(\"Sequence of corresponding PoS tags:\")\n",
        "print(['PROPN', 'PUNCT', 'PROPN', 'PUNCT', 'ADJ', 'NOUN', 'VERB', 'PROPN', 'PROPN', 'PROPN', 'PUNCT', 'PROPN', 'PUNCT', 'DET', 'NOUN', 'ADP', 'DET', 'NOUN', 'ADP', 'DET', 'NOUN', 'ADP', 'PROPN', 'PUNCT', 'ADP', 'DET', 'ADJ', 'NOUN', 'PUNCT'])"
      ],
      "metadata": {
        "colab": {
          "base_uri": "https://localhost:8080/"
        },
        "id": "otPnj2ew3P70",
        "outputId": "f7c6b99c-f9b8-40d1-8783-4b0e2f37a942"
      },
      "execution_count": null,
      "outputs": [
        {
          "output_type": "stream",
          "name": "stdout",
          "text": [
            "Sequence of words:\n",
            "['al', '-', 'zaman', ':', 'american', 'forces', 'killed', 'shaikh', 'abdullah', 'al', '-', 'ani', ',', 'the', 'preacher', 'at', 'the', 'mosque', 'in', 'the', 'town', 'of', 'qaim', ',', 'near', 'the', 'syrian', 'border', '.'] \n",
            "\n",
            "Sequence of corresponding PoS tags:\n",
            "['PROPN', 'PUNCT', 'PROPN', 'PUNCT', 'ADJ', 'NOUN', 'VERB', 'PROPN', 'PROPN', 'PROPN', 'PUNCT', 'PROPN', 'PUNCT', 'DET', 'NOUN', 'ADP', 'DET', 'NOUN', 'ADP', 'DET', 'NOUN', 'ADP', 'PROPN', 'PUNCT', 'ADP', 'DET', 'ADJ', 'NOUN', 'PUNCT']\n"
          ]
        }
      ]
    },
    {
      "cell_type": "markdown",
      "metadata": {
        "id": "DZmn_r7cDY2P"
      },
      "source": [
        "\n",
        "\n",
        "### Methods\n",
        "The methodology we adopt cosnsist of: downloading the data and converting it to the correct input format, apply preprocessing when necessary. Then it proceeds with the instantiation two types of model: the BiLSTM and a baseline of floor performance using a \"naive\" model. The BiLSTM different architectures will span a grid of different parameters (embedding used, minimum frequency, layers and others) and the performance of these variations will be compared to each other and to the baseline over different datasets.\n",
        "\n",
        "Our implementation was inspired by the  Pytorch BiLSTM for PoS tagging proposed by Ben Trevett on [github](https://github.com/bentrevett/pytorch-pos-tagging/blob/master/1_bilstm.ipynb). We used the same dataset, same process of preparation of data, model setup, training and testing function. On top of that implementation, we added the dataset CoNLL-2000, the numsearch preprocessing, the conversion of datasets into raw tokens/tags lists; we also created the baseline from scratch, tested and evaluated it, then took the BiLSTM implementation and tried varying its parameters and architecture along with different types of embeddings, training and evaluating the performance across possible combinations of them to choose the best one. At the end of the notebook, we reported and compared the performance of the best-performing architecture, of two variations, and of the baseline, in order to observe and investigate causes and consequences of their behaviours.\n",
        "\n",
        "It should be mentioned that we encountered a technical issue with the CoNLL-2000 dataset in the days before the delivery of the project. The external server of reference for the actual datasets in the official website (http://www.clips.uantwerpen.be/conll2000/chunking/train.txt.gz) stopped responding, making the notebook unable to retrieve the data with Pytorch. We tried to contact the administrator, who told us that fixing the technical issues would take some time. Therefore, we implemented the code in a way that in case the server will be fixed, the execution will include also that one corpus. But being unable to discuss the results at the current time, we had no choice other than leaving it out from the analysis.\n",
        "\n",
        "The notebook was developed using colab, due to availability of better hardware for training the models and features for colaborative coding, but was tested also on Jupyter before delivery"
      ]
    },
    {
      "cell_type": "markdown",
      "metadata": {
        "id": "rwjYwaN-FN4V"
      },
      "source": [
        "# 2 - Data acquisition and initialization\n",
        "\n",
        "The first step will be downloading *torchtext* package in a version that contains the datasets and functions used, then we import the necessary packages and functions. We then set the random seeds for reasons of reproducibility of the experiment."
      ]
    },
    {
      "cell_type": "code",
      "execution_count": null,
      "metadata": {
        "colab": {
          "base_uri": "https://localhost:8080/"
        },
        "id": "A5Db_GcvN03t",
        "outputId": "e64289d5-6123-45d5-a459-b7c300e9b17a"
      },
      "outputs": [
        {
          "output_type": "stream",
          "name": "stdout",
          "text": [
            "Looking in indexes: https://pypi.org/simple, https://us-python.pkg.dev/colab-wheels/public/simple/\n",
            "Collecting torchtext==0.10.0\n",
            "  Downloading torchtext-0.10.0-cp37-cp37m-manylinux1_x86_64.whl (7.6 MB)\n",
            "\u001b[K     |████████████████████████████████| 7.6 MB 14.2 MB/s \n",
            "\u001b[?25hRequirement already satisfied: numpy in /usr/local/lib/python3.7/dist-packages (from torchtext==0.10.0) (1.21.6)\n",
            "Collecting torch==1.9.0\n",
            "  Downloading torch-1.9.0-cp37-cp37m-manylinux1_x86_64.whl (831.4 MB)\n",
            "\u001b[K     |████████████████████████████████| 831.4 MB 2.8 kB/s \n",
            "\u001b[?25hRequirement already satisfied: requests in /usr/local/lib/python3.7/dist-packages (from torchtext==0.10.0) (2.23.0)\n",
            "Requirement already satisfied: tqdm in /usr/local/lib/python3.7/dist-packages (from torchtext==0.10.0) (4.64.0)\n",
            "Requirement already satisfied: typing-extensions in /usr/local/lib/python3.7/dist-packages (from torch==1.9.0->torchtext==0.10.0) (4.1.1)\n",
            "Requirement already satisfied: certifi>=2017.4.17 in /usr/local/lib/python3.7/dist-packages (from requests->torchtext==0.10.0) (2022.6.15)\n",
            "Requirement already satisfied: idna<3,>=2.5 in /usr/local/lib/python3.7/dist-packages (from requests->torchtext==0.10.0) (2.10)\n",
            "Requirement already satisfied: chardet<4,>=3.0.2 in /usr/local/lib/python3.7/dist-packages (from requests->torchtext==0.10.0) (3.0.4)\n",
            "Requirement already satisfied: urllib3!=1.25.0,!=1.25.1,<1.26,>=1.21.1 in /usr/local/lib/python3.7/dist-packages (from requests->torchtext==0.10.0) (1.24.3)\n",
            "Installing collected packages: torch, torchtext\n",
            "  Attempting uninstall: torch\n",
            "    Found existing installation: torch 1.11.0+cu113\n",
            "    Uninstalling torch-1.11.0+cu113:\n",
            "      Successfully uninstalled torch-1.11.0+cu113\n",
            "  Attempting uninstall: torchtext\n",
            "    Found existing installation: torchtext 0.12.0\n",
            "    Uninstalling torchtext-0.12.0:\n",
            "      Successfully uninstalled torchtext-0.12.0\n",
            "\u001b[31mERROR: pip's dependency resolver does not currently take into account all the packages that are installed. This behaviour is the source of the following dependency conflicts.\n",
            "torchvision 0.12.0+cu113 requires torch==1.11.0, but you have torch 1.9.0 which is incompatible.\n",
            "torchaudio 0.11.0+cu113 requires torch==1.11.0, but you have torch 1.9.0 which is incompatible.\u001b[0m\n",
            "Successfully installed torch-1.9.0 torchtext-0.10.0\n"
          ]
        }
      ],
      "source": [
        "pip install torchtext==0.10.0"
      ]
    },
    {
      "cell_type": "code",
      "execution_count": null,
      "metadata": {
        "id": "boMFXM4tLXjs",
        "colab": {
          "base_uri": "https://localhost:8080/"
        },
        "outputId": "f7286bdf-d80b-469d-a405-140e4859a260"
      },
      "outputs": [
        {
          "output_type": "stream",
          "name": "stdout",
          "text": [
            "cuda\n"
          ]
        }
      ],
      "source": [
        "import torch\n",
        "import torch.nn as nn\n",
        "import torch.optim as optim\n",
        "\n",
        "from torchtext.legacy import data\n",
        "from torchtext.legacy import datasets\n",
        "\n",
        "import numpy as np\n",
        "\n",
        "# sklearn version 1.0 or higher are required to print the confusion matrices\n",
        "from sklearn.metrics import ConfusionMatrixDisplay\n",
        "\n",
        "import time\n",
        "import random\n",
        "import re\n",
        "from tqdm import tqdm\n",
        "from matplotlib import pyplot as plt\n",
        "from math import floor, ceil\n",
        "\n",
        "device = torch.device('cuda' if torch.cuda.is_available() else 'cpu')\n",
        "print(device)"
      ]
    },
    {
      "cell_type": "code",
      "execution_count": null,
      "metadata": {
        "id": "egSkC0DDpwl4"
      },
      "outputs": [],
      "source": [
        "SEED = 1234\n",
        "\n",
        "random.seed(SEED)\n",
        "np.random.seed(SEED)\n",
        "torch.manual_seed(SEED)\n",
        "torch.backends.cudnn.deterministic = True"
      ]
    },
    {
      "cell_type": "markdown",
      "metadata": {
        "id": "iEFpuPwCzesU"
      },
      "source": [
        "## Dataset\n",
        "The datasets used to evaluate our system was\n",
        "[UD - Universal Dependencies](https://universaldependencies.org/): 16622 sentence, 254850 tokens, tagset of 18 tags;\n",
        "\n",
        "For each dataset we use the extraction method described in the *torchtext.datasets* documentation, which automatically splits the dataset in training, validation and test subsets, then print their size in terms of sentence examples, and an actual example of them to visualize how the data is structured.\n",
        "Then, we define some functions and variables that will be useful later, and use them to get some more informative content.\n",
        "Having the data splits ready, we proceed in bulding the **vocabulary** taking advantage of the build_vocab method of the *torchtext.data.Field* class to build a *torchtext.vocab* object. Here we can set two experiment variables: the **minimum frequency** and the **embeddings**. The type of embedding is chosen from the set of predefined aliases in the class [*torchtext.vocab.vectors*](https://pytorch.org/text/stable/_modules/torchtext/vocab/vectors.html#FastText) and loaded to be used later as initialization in the embedding layer of the BiLSTM.\n",
        "At the end we define the batches for the system's training and send them to the device.\n",
        "\n"
      ]
    },
    {
      "cell_type": "markdown",
      "metadata": {
        "id": "8X8adLIKC6I_"
      },
      "source": [
        "### CoNLL Dataset - CN tags"
      ]
    },
    {
      "cell_type": "code",
      "execution_count": null,
      "metadata": {
        "colab": {
          "base_uri": "https://localhost:8080/"
        },
        "id": "fidoBBJfpwl5",
        "outputId": "b4d4bc6b-bd33-4c4a-e280-61ab56cc09ef"
      },
      "outputs": [
        {
          "output_type": "stream",
          "name": "stdout",
          "text": [
            "downloading train.txt.gz\n",
            "\n",
            "The CoNLL Dataset is not available\n"
          ]
        }
      ],
      "source": [
        "try:\n",
        "    TEXT1 = data.Field(lower = True)\n",
        "    CN_TAGS = data.Field(unk_token = None)  # tell the field not to create an \"unknown\" tag, which would be added by default\n",
        "\n",
        "    # Retrieve the Dataset and splits it into train, validation and test data\n",
        "    fields1 = ((\"text\", TEXT1), (\"cntags\", CN_TAGS), (None, None))\n",
        "    train_data1, valid_data1, test_data1 = datasets.CoNLL2000Chunking.splits(fields1)\n",
        "\n",
        "    # Print some information regarding the dataset\n",
        "    print(f\"Number of training examples: {len(train_data1)}\")\n",
        "    print(f\"Number of validation examples: {len(valid_data1)}\")\n",
        "    print(f\"Number of testing examples: {len(test_data1)}\")\n",
        "    print(f\"Number of total examples sentences: {len(train_data1)+len(valid_data1)+len(test_data1)}\")\n",
        "\n",
        "    print(\"Example of training data instance: \")\n",
        "    print(vars(train_data1.examples[0])['text'])\n",
        "    print(vars(train_data1.examples[0])['cntags'])\n",
        "except:\n",
        "    print(\"\\nThe CoNLL Dataset is not available\")\n",
        "    TEXT1 = None"
      ]
    },
    {
      "cell_type": "markdown",
      "metadata": {
        "id": "rJHNsKZvCyMZ"
      },
      "source": [
        "### UD Dataset -  UD tags"
      ]
    },
    {
      "cell_type": "code",
      "execution_count": null,
      "metadata": {
        "colab": {
          "base_uri": "https://localhost:8080/"
        },
        "id": "ePXXqmHCZ8po",
        "outputId": "6ac5cb49-5d42-4826-93dd-88152520447e"
      },
      "outputs": [
        {
          "output_type": "stream",
          "name": "stdout",
          "text": [
            "downloading en-ud-v2.zip\n"
          ]
        },
        {
          "output_type": "stream",
          "name": "stderr",
          "text": [
            "en-ud-v2.zip: 100%|██████████| 688k/688k [00:00<00:00, 1.65MB/s]\n"
          ]
        },
        {
          "output_type": "stream",
          "name": "stdout",
          "text": [
            "extracting\n",
            "Number of training examples: 12543\n",
            "Number of validation examples: 2002\n",
            "Number of testing examples: 2077\n",
            "Number of total examples sentences: 16622\n",
            "Example of training data instance: \n",
            "['al', '-', 'zaman', ':', 'american', 'forces', 'killed', 'shaikh', 'abdullah', 'al', '-', 'ani', ',', 'the', 'preacher', 'at', 'the', 'mosque', 'in', 'the', 'town', 'of', 'qaim', ',', 'near', 'the', 'syrian', 'border', '.']\n",
            "['PROPN', 'PUNCT', 'PROPN', 'PUNCT', 'ADJ', 'NOUN', 'VERB', 'PROPN', 'PROPN', 'PROPN', 'PUNCT', 'PROPN', 'PUNCT', 'DET', 'NOUN', 'ADP', 'DET', 'NOUN', 'ADP', 'DET', 'NOUN', 'ADP', 'PROPN', 'PUNCT', 'ADP', 'DET', 'ADJ', 'NOUN', 'PUNCT']\n"
          ]
        }
      ],
      "source": [
        "TEXT2 = data.Field(lower = True)\n",
        "UD_TAGS = data.Field(unk_token = None)  # tell the field not to create an \"unknown\" tag, which would be added by default\n",
        "\n",
        "# Retrieve the Dataset and splits it into train, validation and test data\n",
        "fields2 = ((\"text\", TEXT2), (\"udtags\", UD_TAGS), (None, None))\n",
        "train_data2, valid_data2, test_data2 = datasets.UDPOS.splits(fields2)\n",
        "\n",
        "# Print some information regarding the dataset\n",
        "print(f\"Number of training examples: {len(train_data2)}\")\n",
        "print(f\"Number of validation examples: {len(valid_data2)}\")\n",
        "print(f\"Number of testing examples: {len(test_data2)}\")\n",
        "print(f\"Number of total examples sentences: {len(train_data2)+len(valid_data2)+len(test_data2)}\")\n",
        "\n",
        "print(\"Example of training data instance: \")\n",
        "print(vars(train_data2.examples[0])['text'])\n",
        "print(vars(train_data2.examples[0])['udtags'])"
      ]
    },
    {
      "cell_type": "markdown",
      "metadata": {
        "id": "XZym41brCr_h"
      },
      "source": [
        "### UD Dataset - PTB tags"
      ]
    },
    {
      "cell_type": "code",
      "execution_count": null,
      "metadata": {
        "colab": {
          "base_uri": "https://localhost:8080/"
        },
        "id": "QYA_ugVYj8_m",
        "outputId": "960e4465-6a60-43e7-d491-ed172d6b5ef2"
      },
      "outputs": [
        {
          "output_type": "stream",
          "name": "stdout",
          "text": [
            "Number of training examples: 12543\n",
            "Number of validation examples: 2002\n",
            "Number of testing examples: 2077\n",
            "Number of total examples sentences: 16622\n",
            "Example of training data instance: \n",
            "['al', '-', 'zaman', ':', 'american', 'forces', 'killed', 'shaikh', 'abdullah', 'al', '-', 'ani', ',', 'the', 'preacher', 'at', 'the', 'mosque', 'in', 'the', 'town', 'of', 'qaim', ',', 'near', 'the', 'syrian', 'border', '.']\n",
            "['NNP', 'HYPH', 'NNP', ':', 'JJ', 'NNS', 'VBD', 'NNP', 'NNP', 'NNP', 'HYPH', 'NNP', ',', 'DT', 'NN', 'IN', 'DT', 'NN', 'IN', 'DT', 'NN', 'IN', 'NNP', ',', 'IN', 'DT', 'JJ', 'NN', '.']\n"
          ]
        }
      ],
      "source": [
        "TEXT3 = data.Field(lower = True)\n",
        "PTB_TAGS = data.Field(unk_token = None)   # tell the field not to create an \"unknown\" tag, which would be added by default\n",
        "\n",
        "# Retrieve the Dataset and splits it into train, validation and test data\n",
        "fields3 = ((\"text\", TEXT3), (None, None), (\"ptbtags\", PTB_TAGS))\n",
        "train_data3, valid_data3, test_data3 = datasets.UDPOS.splits(fields3)\n",
        "\n",
        "# Print some information regarding the dataset\n",
        "print(f\"Number of training examples: {len(train_data3)}\")\n",
        "print(f\"Number of validation examples: {len(valid_data3)}\")\n",
        "print(f\"Number of testing examples: {len(test_data3)}\")\n",
        "print(f\"Number of total examples sentences: {len(train_data3)+len(valid_data3)+len(test_data3)}\")\n",
        "\n",
        "print(\"Example of training data instance: \")\n",
        "print(vars(train_data3.examples[0])['text'])\n",
        "print(vars(train_data3.examples[0])['ptbtags'])"
      ]
    },
    {
      "cell_type": "markdown",
      "metadata": {
        "id": "0y2VhLZgK5I9"
      },
      "source": [
        "## Preprocessing the dataset: numsearch\n",
        "\n",
        "Observing the original datasets and the vocabulary that we build later, we notice that tokens representing numbers are often considered unique words, despite having the same conceptual meaning of quantification. This can affect the performance of the models, because several numerical tokens (e.g dates, large numbers, numbers with fractional parts) will appear only once in the corpus, and therefore marked as infrequent type, like many others, resulting in a considerable probability of being misclassified. We try to add the human ability to generalize numeric text by submitting each token in the text to a regular expression that accepts numeric text of different structure. If the token is accepted, we substitute it in the text with the placeholder *'00000'*.\n",
        "\n",
        "This operations realizes a new version of each dataset, which we define below."
      ]
    },
    {
      "cell_type": "code",
      "execution_count": null,
      "metadata": {
        "id": "4ofaUqLyJbDU"
      },
      "outputs": [],
      "source": [
        "def numsearch(data_splits, numtoken, tagstype):\n",
        "  \"\"\"\n",
        "  Function to scan the text and replace all generic number tokens that are accepted by the regex with numtoken\n",
        "  \"\"\"\n",
        "\n",
        "  to_be_printed = {}\n",
        "  for seq in data_splits:\n",
        "      for example in seq.examples:\n",
        "          current_sentence = vars(example)['text']\n",
        "          curr_tags = vars(example)[tagstype]\n",
        "          for i in range(len(current_sentence)):\n",
        "\n",
        "              #Submit text to the regex search\n",
        "\n",
        "              if re.search(\"^[0-9]+[,.:/]*[0-9]*[,.:/]*[0-9]*$\", current_sentence[i]):\n",
        "                  if (random.randint(0, 150) == 0):\n",
        "\n",
        "                      #If accepted, substitute with placeholder\n",
        "\n",
        "                      to_be_printed[current_sentence[i]] = curr_tags[i]\n",
        "\n",
        "                  current_sentence[i] = numtoken\n",
        "\n",
        "  print(to_be_printed)"
      ]
    },
    {
      "cell_type": "code",
      "source": [
        "# definition of the placeholder\n",
        "new_num_token = \"00000\""
      ],
      "metadata": {
        "id": "-gMTPi9Kei3f"
      },
      "execution_count": null,
      "outputs": []
    },
    {
      "cell_type": "markdown",
      "source": [
        "### CoNLL Dataset with modified \"number\" tokens - CN tags"
      ],
      "metadata": {
        "id": "0hb1njALbIrw"
      }
    },
    {
      "cell_type": "code",
      "execution_count": null,
      "metadata": {
        "id": "qRrGCUiVEFpq"
      },
      "outputs": [],
      "source": [
        "# if the first dataset was loaded correctly\n",
        "if TEXT1 is not None:\n",
        "  TEXT1_num = data.Field(lower = True)\n",
        "  CN_TAGS_num = data.Field(unk_token = None)   # tell the field not to create an \"unknown\" tag, which would be added by default\n",
        "\n",
        "  # Retrieve the Dataset and splits it into train, validation and test data\n",
        "  fields1_num = ((\"text\", TEXT1_num), (\"cntags\", CN_TAGS_num), (None, None))\n",
        "  train_data1_num, valid_data1_num, test_data1_num = datasets.CoNLL2000Chunking.splits(fields1_num)\n",
        "\n",
        "  print(\"Some examples of numbers that will get replaced, and their current tag:\")\n",
        "\n",
        "  numsearch([train_data1_num, valid_data1_num, test_data1_num], new_num_token, 'cntags')"
      ]
    },
    {
      "cell_type": "markdown",
      "metadata": {
        "id": "Y-2r-rHpQ8pj"
      },
      "source": [
        "### UD Dataset with modified \"number\" tokens - UD tags"
      ]
    },
    {
      "cell_type": "code",
      "execution_count": null,
      "metadata": {
        "colab": {
          "base_uri": "https://localhost:8080/"
        },
        "id": "KyCIJb1htF5e",
        "outputId": "218e5edd-940a-4598-f658-9b6c4428a6c5"
      },
      "outputs": [
        {
          "output_type": "stream",
          "name": "stdout",
          "text": [
            "Some examples of numbers that will get replaced, and their current tag:\n",
            "{'42': 'NUM', '2': 'NUM', '65': 'NUM', '7': 'X', '01/11/2001': 'NUM', '10:51': 'NUM', '5': 'NUM', '2006': 'NUM', '1,700': 'NUM', '22': 'NUM', '3': 'NUM', '100,000': 'NUM', '1': 'NUM', '40': 'NUM', '713.864.4149': 'NUM', '13': 'NUM', '2009': 'NUM', '3,500,000': 'NUM', '22,750,000': 'NUM', '713': 'NUM'}\n"
          ]
        }
      ],
      "source": [
        "TEXT2_num = data.Field(lower = True)\n",
        "UD_TAGS_num = data.Field(unk_token = None)   # tell the field not to create an \"unknown\" tag, which would be added by default\n",
        "\n",
        "# Retrieve the Dataset and splits it into train, validation and test data\n",
        "fields2_num = ((\"text\", TEXT2_num), (\"udtags\", UD_TAGS_num), (None, None), )\n",
        "train_data2_num, valid_data2_num, test_data2_num = datasets.UDPOS.splits(fields2_num)\n",
        "\n",
        "print(\"Some examples of numbers that will get replaced, and their current tag:\")\n",
        "\n",
        "numsearch([train_data2_num, valid_data2_num, test_data2_num], new_num_token, 'udtags')"
      ]
    },
    {
      "cell_type": "markdown",
      "metadata": {
        "id": "wY6sbaCMROYK"
      },
      "source": [
        "### UD Dataset with modified \"number\" tokens - PTB tags"
      ]
    },
    {
      "cell_type": "code",
      "execution_count": null,
      "metadata": {
        "colab": {
          "base_uri": "https://localhost:8080/"
        },
        "id": "THVUX2OiWTy5",
        "outputId": "5781b0fe-5d26-4e6c-fad8-0bd7d6d1596a"
      },
      "outputs": [
        {
          "output_type": "stream",
          "name": "stdout",
          "text": [
            "Some examples of numbers that will get replaced, and their current tag:\n",
            "{'7034': 'CD', '01/12/2001': 'CD', '08:22': 'CD', '1561': 'CD', '350,000': 'CD', '2005': 'CD', '100': 'CD', '5': 'CD', '16': 'CD', '12': 'CD', '2': 'CD', '13': 'CD', '3': 'CD', '7': 'CD'}\n"
          ]
        }
      ],
      "source": [
        "TEXT3_num = data.Field(lower = True)\n",
        "PTB_TAGS_num = data.Field(unk_token = None)   # tell the field not to create an \"unknown\" tag, which would be added by default\n",
        "\n",
        "# Retrieve the Dataset and splits it into train, validation and test data\n",
        "fields3_num = ((\"text\", TEXT3_num), (None, None), (\"ptbtags\", PTB_TAGS_num))\n",
        "train_data3_num, valid_data3_num, test_data3_num = datasets.UDPOS.splits(fields3_num)\n",
        "\n",
        "print(\"Some examples of numbers that will get replaced, and their current tag:\")\n",
        "\n",
        "numsearch([train_data3_num, valid_data3_num, test_data3_num], new_num_token, 'ptbtags')"
      ]
    },
    {
      "cell_type": "markdown",
      "metadata": {
        "id": "hMNzi_9gbDP8"
      },
      "source": [
        "## Creation of vocabulary"
      ]
    },
    {
      "cell_type": "code",
      "execution_count": null,
      "metadata": {
        "id": "TS4-hX8oVPwi"
      },
      "outputs": [],
      "source": [
        "# Here we define lists of names or objects that are useful for testing the models on all the datasets by cycling over these lists\n",
        "\n",
        "# if the first dataset was loaded correctly\n",
        "if TEXT1 is not None:\n",
        "    datasets_names = [\"CoNLL-2000\", \"CoNLL-2000 with numsearch\", \"Universal Dependencies\", \"Universal Dependencies with numsearch\", \"Penn Treebanks\", \"Penn Treebanks with numsearch\"]\n",
        "    abbreviations = ['cntags', 'cntags', 'udtags', 'udtags', 'ptbtags', 'ptbtags']\n",
        "    corpora = [[TEXT1, CN_TAGS],[TEXT1_num, CN_TAGS_num], [TEXT2, UD_TAGS], [TEXT2_num, UD_TAGS_num], [TEXT3, PTB_TAGS], [TEXT3_num, PTB_TAGS_num]]\n",
        "    datas = [[train_data1, valid_data1, test_data1],[train_data1_num, valid_data1_num, test_data1_num],[train_data2, valid_data2, test_data2], [train_data2_num, valid_data2_num, test_data2_num], [train_data3, valid_data3, test_data3], [train_data3_num, valid_data3_num, test_data3_num]]\n",
        "\n",
        "else:\n",
        "    datasets_names = [\"Universal Dependencies\", \"Universal Dependencies with numsearch\", \"Penn Treebanks\", \"Penn Treebanks with numsearch\"]\n",
        "    abbreviations = ['udtags', 'udtags', 'ptbtags', 'ptbtags']\n",
        "    corpora = [[TEXT2, UD_TAGS], [TEXT2_num, UD_TAGS_num], [TEXT3, PTB_TAGS], [TEXT3_num, PTB_TAGS_num]]\n",
        "    datas = [[train_data2, valid_data2, test_data2], [train_data2_num, valid_data2_num, test_data2_num], [train_data3, valid_data3, test_data3], [train_data3_num, valid_data3_num, test_data3_num]]"
      ]
    },
    {
      "cell_type": "code",
      "execution_count": null,
      "metadata": {
        "id": "jbmNDSroUVol"
      },
      "outputs": [],
      "source": [
        "def create_single_lists(input_data, tags_name):\n",
        "    \"\"\"\n",
        "    Convert input data from a list of sentences to a single list of words and a single list of tags and save as object variables\n",
        "    \"\"\"\n",
        "    input_text_single_list, input_tags_single_list = [], []\n",
        "\n",
        "    #For every sentence in the input data, concatenate its tokens and tags to the list of words and list of tokens obtained so far\n",
        "\n",
        "    for k in range(len(input_data.examples)):\n",
        "        input_text_single_list.extend(vars(input_data.examples[k])['text'])\n",
        "        input_tags_single_list.extend(vars(input_data.examples[k])[tags_name])\n",
        "    return input_text_single_list, input_tags_single_list"
      ]
    },
    {
      "cell_type": "code",
      "execution_count": null,
      "metadata": {
        "colab": {
          "base_uri": "https://localhost:8080/"
        },
        "id": "7CI2nMlGVTX8",
        "outputId": "cab2dbbc-758f-405f-cb4f-52274c8c638a"
      },
      "outputs": [
        {
          "output_type": "stream",
          "name": "stdout",
          "text": [
            "Total number of tokens in Universal Dependencies : 254850\n",
            "Total number of tokens in Universal Dependencies with numsearch : 254850\n",
            "Total number of tokens in Penn Treebanks : 254850\n",
            "Total number of tokens in Penn Treebanks with numsearch : 254850\n"
          ]
        }
      ],
      "source": [
        "# Simple script to output number of tokens using the previous function\n",
        "for i in range(len(datas)):\n",
        "  allw = []\n",
        "  for dataset in datas[i]:\n",
        "    listw, listt = create_single_lists(dataset, abbreviations[i])\n",
        "    allw.extend(listw)\n",
        "  print(f'Total number of tokens in {datasets_names[i]} : {len(allw)}')"
      ]
    },
    {
      "cell_type": "markdown",
      "metadata": {
        "id": "ca98CBV1C98B"
      },
      "source": [
        "### Building the vocabs"
      ]
    },
    {
      "cell_type": "code",
      "execution_count": null,
      "metadata": {
        "id": "LfNLeGpehHGK"
      },
      "outputs": [],
      "source": [
        "def vocab_build(train_data, min_freq, TEXT, TAGS):\n",
        "    \"\"\"\n",
        "    Builds the vocabulary object for the field and data, marking as \"unknown\" the words with frequency < min_freq\n",
        "    It also returns the index of the \"pad\" tag, which will be used later to avoid training the model on the padded part of the sentences\n",
        "    \"\"\"\n",
        "\n",
        "    TEXT.build_vocab(train_data, min_freq = min_freq, vectors = \"glove.840B.300d\", unk_init = torch.Tensor.normal_)\n",
        "\n",
        "    TAGS.build_vocab(train_data)\n",
        "\n",
        "    TAG_PAD_IDX = TAGS.vocab.stoi[TAGS.pad_token]\n",
        "\n",
        "    #print some information regarding the vocabulary\n",
        "    print(f\"Unique types in TEXT vocabulary: {len(TEXT.vocab)}\")\n",
        "    print(f\"Unique tags in TAG vocabulary: {len(TAGS.vocab)}\")\n",
        "\n",
        "    print(TEXT.vocab.freqs.most_common(20))\n",
        "\n",
        "    return TAG_PAD_IDX"
      ]
    },
    {
      "cell_type": "code",
      "execution_count": null,
      "metadata": {
        "colab": {
          "base_uri": "https://localhost:8080/"
        },
        "id": "MGKCnORWpwl_",
        "outputId": "6a027a67-d9ec-4707-dc45-ab14734d3db7"
      },
      "outputs": [
        {
          "output_type": "stream",
          "name": "stderr",
          "text": [
            ".vector_cache/glove.840B.300d.zip: 2.18GB [06:53, 5.27MB/s]                            \n",
            "100%|█████████▉| 2196016/2196017 [03:11<00:00, 11440.64it/s]\n"
          ]
        },
        {
          "output_type": "stream",
          "name": "stdout",
          "text": [
            "Unique types in TEXT vocabulary: 8866\n",
            "Unique tags in TAG vocabulary: 18\n",
            "[('the', 9076), ('.', 8640), (',', 7021), ('to', 5137), ('and', 5002), ('a', 3782), ('of', 3622), ('i', 3379), ('in', 3112), ('is', 2239), ('you', 2156), ('that', 2036), ('it', 1850), ('for', 1842), ('-', 1426), ('have', 1359), ('\"', 1296), ('on', 1273), ('was', 1244), ('with', 1216)]\n",
            "Unique types in TEXT vocabulary: 8580\n",
            "Unique tags in TAG vocabulary: 18\n",
            "[('the', 9076), ('.', 8640), (',', 7021), ('to', 5137), ('and', 5002), ('a', 3782), ('of', 3622), ('i', 3379), ('in', 3112), ('00000', 3043), ('is', 2239), ('you', 2156), ('that', 2036), ('it', 1850), ('for', 1842), ('-', 1426), ('have', 1359), ('\"', 1296), ('on', 1273), ('was', 1244)]\n",
            "Unique types in TEXT vocabulary: 8866\n",
            "Unique tags in TAG vocabulary: 51\n",
            "[('the', 9076), ('.', 8640), (',', 7021), ('to', 5137), ('and', 5002), ('a', 3782), ('of', 3622), ('i', 3379), ('in', 3112), ('is', 2239), ('you', 2156), ('that', 2036), ('it', 1850), ('for', 1842), ('-', 1426), ('have', 1359), ('\"', 1296), ('on', 1273), ('was', 1244), ('with', 1216)]\n",
            "Unique types in TEXT vocabulary: 8580\n",
            "Unique tags in TAG vocabulary: 51\n",
            "[('the', 9076), ('.', 8640), (',', 7021), ('to', 5137), ('and', 5002), ('a', 3782), ('of', 3622), ('i', 3379), ('in', 3112), ('00000', 3043), ('is', 2239), ('you', 2156), ('that', 2036), ('it', 1850), ('for', 1842), ('-', 1426), ('have', 1359), ('\"', 1296), ('on', 1273), ('was', 1244)]\n"
          ]
        }
      ],
      "source": [
        "#Set  minimum frequency and initiate vocabulary building\n",
        "\n",
        "MIN_FREQ = 2\n",
        "\n",
        "if TEXT1 is not None:\n",
        "    TAG_PAD_IDX1 = vocab_build(train_data1, MIN_FREQ, TEXT1, CN_TAGS)\n",
        "    TAG_PAD_IDX1_num = vocab_build(train_data1_num, MIN_FREQ, TEXT1_num, CN_TAGS_num)\n",
        "\n",
        "    TAG_PAD_IDX2 = vocab_build(train_data2, MIN_FREQ, TEXT2, UD_TAGS)\n",
        "    TAG_PAD_IDX2_num = vocab_build(train_data2_num, MIN_FREQ, TEXT2_num, UD_TAGS_num)\n",
        "\n",
        "    TAG_PAD_IDX3 = vocab_build(train_data3, MIN_FREQ, TEXT3, PTB_TAGS)\n",
        "    TAG_PAD_IDX3_num = vocab_build(train_data3_num, MIN_FREQ, TEXT3_num, PTB_TAGS_num)\n",
        "\n",
        "    tag_pads = [TAG_PAD_IDX1, TAG_PAD_IDX1_num, TAG_PAD_IDX2, TAG_PAD_IDX2_num, TAG_PAD_IDX3, TAG_PAD_IDX3_num]\n",
        "\n",
        "else:\n",
        "    TAG_PAD_IDX2 = vocab_build(train_data2, MIN_FREQ, TEXT2, UD_TAGS)\n",
        "    TAG_PAD_IDX2_num = vocab_build(train_data2_num, MIN_FREQ, TEXT2_num, UD_TAGS_num)\n",
        "\n",
        "    TAG_PAD_IDX3 = vocab_build(train_data3, MIN_FREQ, TEXT3, PTB_TAGS)\n",
        "    TAG_PAD_IDX3_num = vocab_build(train_data3_num, MIN_FREQ, TEXT3_num, PTB_TAGS_num)\n",
        "\n",
        "    tag_pads = [TAG_PAD_IDX2, TAG_PAD_IDX2_num, TAG_PAD_IDX3, TAG_PAD_IDX3_num]"
      ]
    },
    {
      "cell_type": "code",
      "execution_count": null,
      "metadata": {
        "id": "XMm7rikRxYU6"
      },
      "outputs": [],
      "source": [
        "BATCH_SIZE = 128\n",
        "\n",
        "iter = []\n",
        "\n",
        "# separates the data into batches of the desired size\n",
        "for [train_data, valid_data, test_data] in datas:\n",
        "    train_iterator, valid_iterator, test_iterator = data.BucketIterator.splits(\n",
        "        (train_data, valid_data, test_data),\n",
        "        batch_size = BATCH_SIZE,\n",
        "        device = device)\n",
        "    iter.append([train_iterator, valid_iterator, test_iterator])"
      ]
    },
    {
      "cell_type": "markdown",
      "metadata": {
        "id": "paekhmStzTjp"
      },
      "source": [
        "# 3 - Baseline Model\n",
        "This model is the implementation of the **Most Frequent Class Baseline** which we analyzed in class for the PoS tagging task: given a corpus of tokens and their associated PoS tags, it builds a dictionary in which each word in the vocabulary is associated to the tag it appears most frequently with in the corpus. Then we can apply the strategy from the literature for the evaluation of our system:\n",
        "\n",
        "*Always compare a classifier against a baseline at\n",
        "least as good as the most frequent class baseline (assigning each token to the class\n",
        "it occurred in most often in the training set)*\n",
        "\n",
        "\n",
        "We train one baseline for each dataset, where training consists just in building the aforementioned dictionary from the training and validation splits of the corpus converted by the *create_single_list* function.\n",
        "Then we obtain the baseline precision by running the model on the converted test split, which will be useful for comparison with our system."
      ]
    },
    {
      "cell_type": "code",
      "execution_count": null,
      "metadata": {
        "id": "wrgoyH4mskLa"
      },
      "outputs": [],
      "source": [
        "class BaselineModel():\n",
        "    \"\"\"\n",
        "    Baseline Model obtained by assigning at each word in the vocabulary the tag it is most frequently associated with\n",
        "    \"\"\"\n",
        "\n",
        "    def __init__(self, train_data_l, fields, tags_name):\n",
        "        self.train_data_l = train_data_l\n",
        "        self.tags_name = tags_name\n",
        "        self.TEXT_field = fields[0]\n",
        "        self.TAGS_field = fields[1]\n",
        "        self.model_core = {}\n",
        "        self.train_text_single_list = []\n",
        "        self.train_tags_single_list = []\n",
        "\n",
        "    def training(self):\n",
        "\n",
        "        temp_text, temp_tags = [], []\n",
        "        for train_data in self.train_data_l:\n",
        "          train_text_single_list, train_tags_single_list = create_single_lists(train_data, self.tags_name)\n",
        "          temp_text.extend(train_text_single_list)\n",
        "          temp_tags.extend(train_tags_single_list)\n",
        "\n",
        "        self.train_text_single_list = temp_text\n",
        "        self.train_tags_single_list = temp_tags\n",
        "\n",
        "\n",
        "        word_ind = self.TEXT_field.vocab.stoi\n",
        "        tags_ind = self.TAGS_field.vocab.stoi\n",
        "\n",
        "        #Create table for Counts(tag,word), then argmax over columns to get most freq tag for word\n",
        "\n",
        "        rf_tab = torch.zeros((len(self.TAGS_field.vocab.itos), len(self.TEXT_field.vocab.itos),)).to(device)\n",
        "\n",
        "        # Iterate over all token in train_text_single_list\n",
        "\n",
        "        for i in tqdm(range(len(self.train_text_single_list))):\n",
        "\n",
        "            # increment the count of the tag associated to the token\n",
        "            rf_tab[tags_ind[\n",
        "                            self.train_tags_single_list[i]],\n",
        "                   word_ind[\n",
        "                            self.train_text_single_list[i]]] += 1\n",
        "\n",
        "        rf_tab = torch.argmax(rf_tab, dim=0)\n",
        "\n",
        "        # save the pair \"word : most_frequent_tag\" for every word in vocabulary (rf_tab columns)\n",
        "\n",
        "        for k in range(len(rf_tab.tolist())):\n",
        "            if (rf_tab[k] != 0):        # to avoid <pad> token\n",
        "                self.model_core[self.TEXT_field.vocab.itos[k]] = self.TAGS_field.vocab.itos[rf_tab[k]]\n",
        "\n",
        "        print(\"First 20 'type-tag' pairs in the Baseline model:\")\n",
        "        first_elems_of_model_core_dict = [key for key in list(self.model_core.keys())[0:20]]\n",
        "        for k in first_elems_of_model_core_dict:\n",
        "            print(str(k) +': ' + str(self.model_core[k]), end='  |  ')\n",
        "\n",
        "    def inference(self, text):\n",
        "        \"\"\"\n",
        "        handy method used to return the tags predicted by the baseline over an input text\n",
        "        Note: text must be a list of words\n",
        "        \"\"\"\n",
        "        return [self.model_core[token] for token in text]\n"
      ]
    },
    {
      "cell_type": "markdown",
      "metadata": {
        "id": "UJpgheJOqeuM"
      },
      "source": [
        "## Training the Baseline"
      ]
    },
    {
      "cell_type": "code",
      "execution_count": null,
      "metadata": {
        "colab": {
          "base_uri": "https://localhost:8080/"
        },
        "id": "iBCDztVEljR2",
        "outputId": "431ed723-3674-4fa1-a1e9-c5d288d7178e"
      },
      "outputs": [
        {
          "output_type": "stream",
          "name": "stdout",
          "text": [
            "Training Baseline Model on dataset Universal Dependencies \n",
            "\n"
          ]
        },
        {
          "output_type": "stream",
          "name": "stderr",
          "text": [
            "100%|██████████| 229753/229753 [00:03<00:00, 65623.54it/s]\n"
          ]
        },
        {
          "output_type": "stream",
          "name": "stdout",
          "text": [
            "First 20 'type-tag' pairs in the Baseline model:\n",
            "<unk>: NOUN  |  the: DET  |  .: PUNCT  |  ,: PUNCT  |  to: PART  |  and: CCONJ  |  a: DET  |  of: ADP  |  i: PRON  |  in: ADP  |  is: AUX  |  you: PRON  |  that: SCONJ  |  it: PRON  |  for: ADP  |  -: PUNCT  |  have: VERB  |  \": PUNCT  |  on: ADP  |  was: AUX  |  \n",
            "\n",
            "\n",
            "Training Baseline Model on dataset Universal Dependencies with numsearch \n",
            "\n"
          ]
        },
        {
          "output_type": "stream",
          "name": "stderr",
          "text": [
            "100%|██████████| 229753/229753 [00:03<00:00, 65659.95it/s]\n"
          ]
        },
        {
          "output_type": "stream",
          "name": "stdout",
          "text": [
            "First 20 'type-tag' pairs in the Baseline model:\n",
            "<unk>: NOUN  |  the: DET  |  .: PUNCT  |  ,: PUNCT  |  to: PART  |  and: CCONJ  |  a: DET  |  of: ADP  |  i: PRON  |  in: ADP  |  00000: NUM  |  is: AUX  |  you: PRON  |  that: SCONJ  |  it: PRON  |  for: ADP  |  -: PUNCT  |  have: VERB  |  \": PUNCT  |  on: ADP  |  \n",
            "\n",
            "\n",
            "Training Baseline Model on dataset Penn Treebanks \n",
            "\n"
          ]
        },
        {
          "output_type": "stream",
          "name": "stderr",
          "text": [
            "100%|██████████| 229753/229753 [00:03<00:00, 64696.70it/s]\n"
          ]
        },
        {
          "output_type": "stream",
          "name": "stdout",
          "text": [
            "First 20 'type-tag' pairs in the Baseline model:\n",
            "<unk>: NNP  |  the: DT  |  .: .  |  ,: ,  |  to: TO  |  and: CC  |  a: DT  |  of: IN  |  i: PRP  |  in: IN  |  is: VBZ  |  you: PRP  |  that: IN  |  it: PRP  |  for: IN  |  -: HYPH  |  have: VBP  |  \": ``  |  on: IN  |  was: VBD  |  \n",
            "\n",
            "\n",
            "Training Baseline Model on dataset Penn Treebanks with numsearch \n",
            "\n"
          ]
        },
        {
          "output_type": "stream",
          "name": "stderr",
          "text": [
            "100%|██████████| 229753/229753 [00:03<00:00, 65729.66it/s]\n"
          ]
        },
        {
          "output_type": "stream",
          "name": "stdout",
          "text": [
            "First 20 'type-tag' pairs in the Baseline model:\n",
            "<unk>: NNP  |  the: DT  |  .: .  |  ,: ,  |  to: TO  |  and: CC  |  a: DT  |  of: IN  |  i: PRP  |  in: IN  |  00000: CD  |  is: VBZ  |  you: PRP  |  that: IN  |  it: PRP  |  for: IN  |  -: HYPH  |  have: VBP  |  \": ``  |  on: IN  |  \n",
            "\n",
            "\n"
          ]
        }
      ],
      "source": [
        "# Instatiation of the baselines for the datasets\n",
        "\n",
        "BL_models = []\n",
        "\n",
        "for i in range(len(corpora)):\n",
        "\n",
        "    [train, valid, test] = datas[i]\n",
        "\n",
        "    print(f\"Training Baseline Model on dataset {datasets_names[i]} \\n\")\n",
        "    # For the baseline training we don't need a separate validation set, so we use it for training the model\n",
        "    BL = BaselineModel([train, valid], corpora[i], abbreviations[i])\n",
        "    BL.training()\n",
        "    BL_models.append(BL)\n",
        "    print('\\n\\n')"
      ]
    },
    {
      "cell_type": "markdown",
      "metadata": {
        "id": "5QDg5b3Y3PHc"
      },
      "source": [
        "## Evaluating the Baseline"
      ]
    },
    {
      "cell_type": "code",
      "execution_count": null,
      "metadata": {
        "id": "heAVNwu9dF7u"
      },
      "outputs": [],
      "source": [
        "def evaluateBL(BL_model, test_data, tags_name):\n",
        "\n",
        "    #Convert data\n",
        "\n",
        "    test_data_single_list, test_tags_single_list = create_single_lists(test_data, tags_name)\n",
        "\n",
        "\n",
        "    # Filtering the converted test list by substituting tokens that are unknow to the model with the <unk> placeholder\n",
        "    # The tokens that are unknown to the model are the ones which are not present as key in the model_core dictionary,\n",
        "    # so the ones which did not appear in the train data\n",
        "\n",
        "\n",
        "    test_data_single_list_unk = []\n",
        "    for token in test_data_single_list:\n",
        "        if token in BL_model.model_core:\n",
        "            test_data_single_list_unk.append(token)\n",
        "        else:\n",
        "            test_data_single_list_unk.append('<unk>')\n",
        "\n",
        "    model_prediction = BL_model.inference(test_data_single_list_unk)\n",
        "\n",
        "    #Accuracy is computed by counting the number of correct predictions (predicted == gold) and dividing it by the length of the input\n",
        "\n",
        "    accuracy_count = [1 for predicted, gold in zip(model_prediction, test_tags_single_list) if predicted == gold]\n",
        "\n",
        "    accuracy = len(accuracy_count)/len(test_tags_single_list)\n",
        "    return accuracy"
      ]
    },
    {
      "cell_type": "code",
      "execution_count": null,
      "metadata": {
        "colab": {
          "base_uri": "https://localhost:8080/"
        },
        "id": "gDrjb5lGuRs5",
        "outputId": "e0f4809c-7e38-4758-982e-647d1d1bcc53"
      },
      "outputs": [
        {
          "output_type": "stream",
          "name": "stdout",
          "text": [
            "Evaluating Baseline Model on dataset Universal Dependencies \n",
            "\n",
            "Test Acc: 84.58% \n",
            "\n",
            "Evaluating Baseline Model on dataset Universal Dependencies with numsearch \n",
            "\n",
            "Test Acc: 85.27% \n",
            "\n",
            "Evaluating Baseline Model on dataset Penn Treebanks \n",
            "\n",
            "Test Acc: 83.72% \n",
            "\n",
            "Evaluating Baseline Model on dataset Penn Treebanks with numsearch \n",
            "\n",
            "Test Acc: 84.40% \n",
            "\n",
            "Average Most Frequent Class Baseline test accuracy (over all datasets): 0.8449416264892218\n"
          ]
        }
      ],
      "source": [
        "BL_accuracies = []\n",
        "\n",
        "for i in range(len(BL_models)):\n",
        "    [train, valid, test] = datas[i]\n",
        "\n",
        "    print(f\"Evaluating Baseline Model on dataset {datasets_names[i]} \\n\")\n",
        "\n",
        "    BL = BaselineModel(train, corpora[i], abbreviations[i])\n",
        "    accuracy = evaluateBL(BL_models[i], test, abbreviations[i])\n",
        "\n",
        "    print(f'Test Acc: {accuracy*100:.2f}% \\n')\n",
        "\n",
        "    BL_accuracies.append(accuracy)\n",
        "\n",
        "print(f'Average Most Frequent Class Baseline test accuracy (over all datasets): {sum(BL_accuracies)/len(BL_accuracies)}')"
      ]
    },
    {
      "cell_type": "markdown",
      "metadata": {
        "id": "ql1eSLZTX2qe"
      },
      "source": [
        "# 4 - Bidirectional LSTM\n",
        "\n",
        "Our system consists in a Bidirectional LSTM, which is widely used in the literature for the task we work on and in general for NLP tasks ([Peilu Wang, Yao Qian, Frank K. Soong, Lei He, Hai Zhao](https://arxiv.org/abs/1510.06168);  [Steinþór Steingrímsson, Örvar Kárason, Hrafn Loftsson](https://aclanthology.org/R19-1133.pdf)) thanks to its ability to consider unbounded context windows of the inputs.\n",
        "Given that at time t, $x_t$ is the input word, $e(x_t)$ its embedding, $h_t$ the hidden state and $c_t$ the cell state, $y_t$ the predicted tag and $f$ a linear transformation, the BiLSTM consists in the implementation of the following functions.\n",
        "<br>\n",
        "\n",
        " $$h^{\\rightarrow}_t = \\text{LSTM}^{\\rightarrow}(e(x^{\\rightarrow}_t), h^{\\rightarrow}_{t-1}, c^{\\rightarrow}_{t-1})$$\n",
        "$$h^{\\leftarrow}_t=\\text{LSTM}^{\\leftarrow}(e(x^{\\leftarrow}_t), h^{\\leftarrow}_{t-1}, c^{\\leftarrow}_{t-1})$$\n",
        "$$h_t = [h^{\\rightarrow}_t;h^{\\leftarrow}_{t}]$$\n",
        " $$\\hat{y}_t = f(h_t)$$\n",
        "\n",
        "<br>\n",
        "\n",
        "Our Pytorch implementation is structured in the following way:\n",
        "1. **Embedding layer** - Input dimension: word vocabulary size, Output dimension: embedding size. Input token is represented as one-hot-vector with size of the word vocabulary, the output is the neural embedding of the said token;\n",
        "2. **BiLSTM layer** - Input dimension: embedding size, Output dimension: hidden layer size. Output is obtained by passing input over a number *n_layers* of LSTMs, each one set to be bidirectional, so that outputs holds the backward and forward hidden states in the final layer. In this layer we can set the experiment variables **Number of layers**, **Dropout** and **Hidden layer dimension**;\n",
        "3. **Linear layer** - Input dimension: hidden layer size, Output dimension: tagset size. Output is obtained simply passing the input over a fully-connected linear layer, then dropout is applied again to get the distribution of probability weights over the tagset;\n",
        "\n",
        "After defining the implementation as a class, we declare the constants and instantiate one model for each dataset, as they will be trained separately on each of them. *embedding dim* has to be the same of the embedding chosen when building the vocabulary (e.g. Using *GloVe 840B 300d* requires to have embedding_dim=300).\n"
      ]
    },
    {
      "cell_type": "code",
      "execution_count": null,
      "metadata": {
        "id": "w-Wa3Tp5pwmO"
      },
      "outputs": [],
      "source": [
        "class BiLSTMPOSTagger(nn.Module):\n",
        "    \"\"\"\n",
        "    BiLSTM class definition\n",
        "    \"\"\"\n",
        "\n",
        "    def __init__(self,\n",
        "                 input_dim,\n",
        "                 embedding_dim,\n",
        "                 hidden_dim,\n",
        "                 output_dim,\n",
        "                 n_layers,\n",
        "                 bidirectional,\n",
        "                 dropout,\n",
        "                 pad_idx):\n",
        "\n",
        "        super().__init__()\n",
        "\n",
        "        self.embedding = nn.Embedding(input_dim, embedding_dim, padding_idx = pad_idx)\n",
        "\n",
        "        self.lstm = nn.LSTM(embedding_dim,\n",
        "                            hidden_dim,\n",
        "                            num_layers = n_layers,\n",
        "                            bidirectional = bidirectional,\n",
        "                            dropout = dropout if n_layers > 1 else 0)\n",
        "\n",
        "        self.fc = nn.Linear(hidden_dim * 2 if bidirectional else hidden_dim, output_dim)\n",
        "\n",
        "        self.dropout = nn.Dropout(dropout)\n",
        "\n",
        "    def forward(self, text):\n",
        "\n",
        "        #text = [sent len, batch size]\n",
        "        embedded = self.dropout(self.embedding(text))\n",
        "\n",
        "        #embedded = [sent len, batch size, emb dim]\n",
        "        outputs, _ = self.lstm(embedded)\n",
        "\n",
        "        #output = [sent len, batch size, hid dim * n directions]\n",
        "        predictions = self.fc(self.dropout(outputs))\n",
        "\n",
        "        #predictions = [sent len, batch size, output dim]\n",
        "\n",
        "        return predictions"
      ]
    },
    {
      "cell_type": "code",
      "execution_count": null,
      "metadata": {
        "id": "crDf8hTHpwmi"
      },
      "outputs": [],
      "source": [
        "#Declaration of the model's parameters and initialization of the model instances\n",
        "\n",
        "EMBEDDING_DIM = 300\n",
        "HIDDEN_DIM = 256\n",
        "N_LAYERS = 2\n",
        "BIDIRECTIONAL = True\n",
        "DROPOUT = 0.125\n",
        "pad_idxs = []\n",
        "modelsBiLSTM = []\n",
        "\n",
        "#Create one model for each corpus in corpora\n",
        "\n",
        "for [TEXT,TAGS] in corpora:\n",
        "    INPUT_DIM = len(TEXT.vocab)\n",
        "    OUTPUT_DIM = len(TAGS.vocab)\n",
        "    PAD_IDX = TEXT.vocab.stoi[TEXT.pad_token]\n",
        "\n",
        "    model = BiLSTMPOSTagger(INPUT_DIM,\n",
        "                            EMBEDDING_DIM,\n",
        "                            HIDDEN_DIM,\n",
        "                            OUTPUT_DIM,\n",
        "                            N_LAYERS,\n",
        "                            BIDIRECTIONAL,\n",
        "                            DROPOUT,\n",
        "                            PAD_IDX)\n",
        "    pad_idxs.append(PAD_IDX)\n",
        "    modelsBiLSTM.append(model)\n"
      ]
    },
    {
      "cell_type": "code",
      "execution_count": null,
      "metadata": {
        "id": "-JUYMJufG_dq"
      },
      "outputs": [],
      "source": [
        "#Function that initializes randomly the model's weights\n",
        "def init_weights(m):\n",
        "    for name, param in m.named_parameters():\n",
        "        nn.init.normal_(param.data, mean = 0, std = 0.1)\n",
        "\n",
        "\n",
        "#Function that prints the number of parameters in a model\n",
        "def count_parameters(model):\n",
        "    return sum(p.numel() for p in model.parameters() if p.requires_grad)"
      ]
    },
    {
      "cell_type": "markdown",
      "metadata": {
        "id": "1bpg_tjd2xPi"
      },
      "source": [
        "## Training and evaluating the BiLSTM\n",
        "For every corpus in the corpora, we initialize the model's weigths and load the previously loaded embeddings as weigths of the Embedding layer in the BiLSTM, initializing to zero-vectors the padding tokens embeddings. We define Adam as optimizer and Cross Entropy as loss, an \"optimizer-loss\" pair is saved for each model instance because they are initialized with data specific for the model.\n",
        "We define the function *categorical_accuracy* to find the most probable label as argmax of the softmax, then compute the accuracy (also called precision) given a set of predicted labels and one of golden labels, by comparing the sets restricting to the labels belonging to tokens different than \\<pad\\>.\n",
        "\n",
        "Then in the training procedure we iterate over several batches by zeroing the gradient, getting the prediciton from the sentences as string of labels, computing the loss and the accuracy and use them to make an optimizer step. Then report the mean accuracy over the batches. The procedure is ran using the training set to adjust the weights of the model and minimize the loss.\n",
        "\n",
        "The evaluation sequence is defined similarly to the training one, but there is no weight update and it is performed on the test set (or on the validation set during the training).\n",
        "\n",
        "Once defined the procedures, the actual training starts: in each of the 10 epochs the model is trained on the training data and evaluated on the validation data. If the validation loss of the current epoch is better than the previous lowest one we save the current model, so that the model saved at the end of the training will be the one that produced the best validation loss. After that, the model's prediction for the test set are obtained. The whole procedure is repeated for each corpus, obtaining four (or six, if CoNLL is available) different models."
      ]
    },
    {
      "cell_type": "code",
      "execution_count": null,
      "metadata": {
        "colab": {
          "base_uri": "https://localhost:8080/"
        },
        "id": "qEq91x0Epwmj",
        "outputId": "87c603ed-c296-4506-ac72-0549365919d2"
      },
      "outputs": [
        {
          "output_type": "stream",
          "name": "stdout",
          "text": [
            "The model 0 has 5,388,778 trainable parameters\n",
            "The model 1 has 5,302,978 trainable parameters\n",
            "The model 2 has 5,405,707 trainable parameters\n",
            "The model 3 has 5,319,907 trainable parameters\n"
          ]
        }
      ],
      "source": [
        "optimizers = []\n",
        "criterions = []\n",
        "\n",
        "for i in range(len(corpora)):\n",
        "    model = modelsBiLSTM[i]\n",
        "    TAG_PAD_IDX = tag_pads[i]\n",
        "    PAD_IDX = pad_idxs[i]\n",
        "    TEXT = corpora[i][0]\n",
        "\n",
        "    #Initialize weights randomly\n",
        "\n",
        "    model.apply(init_weights)\n",
        "    print(f'The model {i} has {count_parameters(model):,} trainable parameters')\n",
        "\n",
        "    #Initialize Embedding layer with pre-loaded embeddings\n",
        "\n",
        "    pretrained_embeddings = TEXT.vocab.vectors\n",
        "    model.embedding.weight.data.copy_(pretrained_embeddings)\n",
        "    model.embedding.weight.data[PAD_IDX] = torch.zeros(EMBEDDING_DIM)\n",
        "\n",
        "    #Optimizer and Loss\n",
        "\n",
        "    optimizer = optim.Adam(model.parameters())\n",
        "    criterion = nn.CrossEntropyLoss(ignore_index = TAG_PAD_IDX)\n",
        "\n",
        "\n",
        "    model = model.to(device)\n",
        "    criterion = criterion.to(device)\n",
        "\n",
        "    optimizers.append(optimizer)\n",
        "    criterions.append(criterion)"
      ]
    },
    {
      "cell_type": "code",
      "execution_count": null,
      "metadata": {
        "id": "l6FMQ9Pppwmq"
      },
      "outputs": [],
      "source": [
        "#Function that takes label prediction and golden label and computes accuracy\n",
        "\n",
        "def categorical_accuracy(model_predictions, gold_tags, tag_pad_idx):\n",
        "    \"\"\"\n",
        "    Returns accuracy per batch, i.e. if you get 8/10 right, this returns 0.8, NOT 8\n",
        "    \"\"\"\n",
        "    max_preds = model_predictions.argmax(dim = 1, keepdim = True) # get the index of the max probability\n",
        "    non_pad_elements = (gold_tags != tag_pad_idx).nonzero()\n",
        "    correct = max_preds[non_pad_elements].squeeze(1).eq(gold_tags[non_pad_elements])\n",
        "    return correct.sum() / gold_tags[non_pad_elements].shape[0], [max_preds[non_pad_elements].squeeze(1), gold_tags[non_pad_elements]]"
      ]
    },
    {
      "cell_type": "code",
      "execution_count": null,
      "metadata": {
        "id": "_QGjrEYppwmr"
      },
      "outputs": [],
      "source": [
        "def train(model, iterator, optimizer, criterion, tag_pad_idx, i):\n",
        "    \"\"\"\n",
        "    BiLSTM training function\n",
        "    \"\"\"\n",
        "\n",
        "    epoch_loss = 0\n",
        "    epoch_acc = 0\n",
        "\n",
        "    model.train()\n",
        "\n",
        "    for batch in iterator:\n",
        "\n",
        "        text = batch.text\n",
        "\n",
        "        if TEXT1 is not None:\n",
        "            if (i == 0 or i == 1): tags = batch.cntags\n",
        "            elif (i == 2 or i == 3): tags = batch.udtags\n",
        "            else: tags = batch.ptbtags\n",
        "\n",
        "        else:\n",
        "            if (i == 0 or i == 1): tags = batch.udtags\n",
        "            else: tags = batch.ptbtags\n",
        "\n",
        "        optimizer.zero_grad()\n",
        "\n",
        "        #text = [sent len, batch size]\n",
        "\n",
        "        predictions = model(text)\n",
        "\n",
        "        #predictions = [sent len, batch size, output dim]\n",
        "        #tags = [sent len, batch size]\n",
        "\n",
        "        predictions = predictions.view(-1, predictions.shape[-1])\n",
        "        tags = tags.view(-1)\n",
        "\n",
        "        #predictions = [sent len * batch size, output dim]\n",
        "        #tags = [sent len * batch size]\n",
        "\n",
        "        loss = criterion(predictions, tags)\n",
        "\n",
        "        acc, _ = categorical_accuracy(predictions, tags, tag_pad_idx)\n",
        "\n",
        "        loss.backward()\n",
        "\n",
        "        optimizer.step()\n",
        "\n",
        "        epoch_loss += loss.item()\n",
        "        epoch_acc += acc.item()\n",
        "\n",
        "    return epoch_loss / len(iterator), epoch_acc / len(iterator)"
      ]
    },
    {
      "cell_type": "code",
      "execution_count": null,
      "metadata": {
        "id": "QoxU16Sbpwms"
      },
      "outputs": [],
      "source": [
        "def evaluate(model, iterator, criterion, tag_pad_idx, i):\n",
        "    \"\"\"\n",
        "    BiLSTM evaluation function\n",
        "    \"\"\"\n",
        "\n",
        "\n",
        "    epoch_loss = 0\n",
        "    epoch_acc = 0\n",
        "\n",
        "    model.eval()\n",
        "\n",
        "    returnlabels = []\n",
        "\n",
        "    with torch.no_grad():\n",
        "\n",
        "        for batch in iterator:\n",
        "\n",
        "            text = batch.text\n",
        "\n",
        "            if TEXT1 is not None:\n",
        "              if (i == 0 or i == 1): tags = batch.cntags\n",
        "              elif (i == 2 or i == 3): tags = batch.udtags\n",
        "              else: tags = batch.ptbtags\n",
        "\n",
        "            else:\n",
        "                if (i == 0 or i == 1): tags = batch.udtags\n",
        "                else: tags = batch.ptbtags\n",
        "\n",
        "            predictions = model(text)\n",
        "\n",
        "            predictions = predictions.view(-1, predictions.shape[-1])\n",
        "            tags = tags.view(-1)\n",
        "\n",
        "            loss = criterion(predictions, tags)\n",
        "\n",
        "            acc, labels = categorical_accuracy(predictions, tags, tag_pad_idx)\n",
        "\n",
        "            epoch_loss += loss.item()\n",
        "            epoch_acc += acc.item()\n",
        "\n",
        "            returnlabels.append(labels)\n",
        "\n",
        "\n",
        "    return epoch_loss / len(iterator), epoch_acc / len(iterator), returnlabels"
      ]
    },
    {
      "cell_type": "code",
      "execution_count": null,
      "metadata": {
        "id": "aM2Mfyohpwmt"
      },
      "outputs": [],
      "source": [
        "def epoch_time(start_time, end_time):\n",
        "    \"\"\"\n",
        "    Print how much time an epoch takes\n",
        "    \"\"\"\n",
        "\n",
        "    elapsed_time = end_time - start_time\n",
        "    elapsed_mins = int(elapsed_time / 60)\n",
        "    elapsed_secs = int(elapsed_time - (elapsed_mins * 60))\n",
        "    return elapsed_mins, elapsed_secs"
      ]
    },
    {
      "cell_type": "code",
      "execution_count": null,
      "metadata": {
        "colab": {
          "base_uri": "https://localhost:8080/"
        },
        "id": "W08Crfvzpwmw",
        "outputId": "160cb728-5497-41be-99c7-50fb28761800"
      },
      "outputs": [
        {
          "output_type": "stream",
          "name": "stdout",
          "text": [
            "Training BiLSTM on dataset Universal Dependencies \n",
            "\n",
            "Saved model as bilstmudtags0-model.pt\n",
            "Epoch: 01 | Epoch Time: 0m 5s\n",
            "\tTrain Loss: 0.781 | Train Acc: 75.82%\n",
            "\t Val. Loss: 0.444 |  Val. Acc: 87.02%\n",
            "Saved model as bilstmudtags0-model.pt\n",
            "Epoch: 02 | Epoch Time: 0m 5s\n",
            "\tTrain Loss: 0.233 | Train Acc: 92.65%\n",
            "\t Val. Loss: 0.377 |  Val. Acc: 88.72%\n",
            "Epoch: 03 | Epoch Time: 0m 5s\n",
            "\tTrain Loss: 0.167 | Train Acc: 94.65%\n",
            "\t Val. Loss: 0.384 |  Val. Acc: 87.10%\n",
            "Saved model as bilstmudtags0-model.pt\n",
            "Epoch: 04 | Epoch Time: 0m 5s\n",
            "\tTrain Loss: 0.133 | Train Acc: 95.68%\n",
            "\t Val. Loss: 0.353 |  Val. Acc: 88.76%\n",
            "Saved model as bilstmudtags0-model.pt\n",
            "Epoch: 05 | Epoch Time: 0m 5s\n",
            "\tTrain Loss: 0.107 | Train Acc: 96.47%\n",
            "\t Val. Loss: 0.338 |  Val. Acc: 90.47%\n",
            "Epoch: 06 | Epoch Time: 0m 5s\n",
            "\tTrain Loss: 0.086 | Train Acc: 97.23%\n",
            "\t Val. Loss: 0.350 |  Val. Acc: 90.42%\n",
            "Epoch: 07 | Epoch Time: 0m 5s\n",
            "\tTrain Loss: 0.068 | Train Acc: 97.80%\n",
            "\t Val. Loss: 0.359 |  Val. Acc: 90.09%\n",
            "Epoch: 08 | Epoch Time: 0m 5s\n",
            "\tTrain Loss: 0.055 | Train Acc: 98.26%\n",
            "\t Val. Loss: 0.360 |  Val. Acc: 90.72%\n",
            "Epoch: 09 | Epoch Time: 0m 5s\n",
            "\tTrain Loss: 0.043 | Train Acc: 98.61%\n",
            "\t Val. Loss: 0.389 |  Val. Acc: 89.86%\n",
            "Epoch: 10 | Epoch Time: 0m 5s\n",
            "\tTrain Loss: 0.034 | Train Acc: 98.94%\n",
            "\t Val. Loss: 0.388 |  Val. Acc: 90.53%\n",
            "\n",
            "\n",
            "\n",
            "Training BiLSTM on dataset Universal Dependencies with numsearch \n",
            "\n",
            "Saved model as bilstmudtags1-model.pt\n",
            "Epoch: 01 | Epoch Time: 0m 5s\n",
            "\tTrain Loss: 0.746 | Train Acc: 77.04%\n",
            "\t Val. Loss: 0.425 |  Val. Acc: 87.55%\n",
            "Saved model as bilstmudtags1-model.pt\n",
            "Epoch: 02 | Epoch Time: 0m 5s\n",
            "\tTrain Loss: 0.225 | Train Acc: 92.81%\n",
            "\t Val. Loss: 0.359 |  Val. Acc: 89.18%\n",
            "Epoch: 03 | Epoch Time: 0m 5s\n",
            "\tTrain Loss: 0.163 | Train Acc: 94.82%\n",
            "\t Val. Loss: 0.365 |  Val. Acc: 88.77%\n",
            "Saved model as bilstmudtags1-model.pt\n",
            "Epoch: 04 | Epoch Time: 0m 5s\n",
            "\tTrain Loss: 0.129 | Train Acc: 95.81%\n",
            "\t Val. Loss: 0.329 |  Val. Acc: 90.41%\n",
            "Saved model as bilstmudtags1-model.pt\n",
            "Epoch: 05 | Epoch Time: 0m 5s\n",
            "\tTrain Loss: 0.105 | Train Acc: 96.60%\n",
            "\t Val. Loss: 0.327 |  Val. Acc: 90.59%\n",
            "Epoch: 06 | Epoch Time: 0m 5s\n",
            "\tTrain Loss: 0.084 | Train Acc: 97.28%\n",
            "\t Val. Loss: 0.331 |  Val. Acc: 91.05%\n",
            "Epoch: 07 | Epoch Time: 0m 5s\n",
            "\tTrain Loss: 0.068 | Train Acc: 97.81%\n",
            "\t Val. Loss: 0.341 |  Val. Acc: 90.74%\n",
            "Epoch: 08 | Epoch Time: 0m 5s\n",
            "\tTrain Loss: 0.054 | Train Acc: 98.26%\n",
            "\t Val. Loss: 0.344 |  Val. Acc: 91.13%\n",
            "Epoch: 09 | Epoch Time: 0m 5s\n",
            "\tTrain Loss: 0.043 | Train Acc: 98.62%\n",
            "\t Val. Loss: 0.366 |  Val. Acc: 90.63%\n",
            "Epoch: 10 | Epoch Time: 0m 5s\n",
            "\tTrain Loss: 0.034 | Train Acc: 98.92%\n",
            "\t Val. Loss: 0.364 |  Val. Acc: 90.92%\n",
            "\n",
            "\n",
            "\n",
            "Training BiLSTM on dataset Penn Treebanks \n",
            "\n",
            "Saved model as bilstmptbtags2-model.pt\n",
            "Epoch: 01 | Epoch Time: 0m 5s\n",
            "\tTrain Loss: 1.093 | Train Acc: 70.65%\n",
            "\t Val. Loss: 0.551 |  Val. Acc: 85.61%\n",
            "Saved model as bilstmptbtags2-model.pt\n",
            "Epoch: 02 | Epoch Time: 0m 5s\n",
            "\tTrain Loss: 0.294 | Train Acc: 91.49%\n",
            "\t Val. Loss: 0.449 |  Val. Acc: 87.59%\n",
            "Saved model as bilstmptbtags2-model.pt\n",
            "Epoch: 03 | Epoch Time: 0m 5s\n",
            "\tTrain Loss: 0.208 | Train Acc: 93.78%\n",
            "\t Val. Loss: 0.444 |  Val. Acc: 86.43%\n",
            "Saved model as bilstmptbtags2-model.pt\n",
            "Epoch: 04 | Epoch Time: 0m 5s\n",
            "\tTrain Loss: 0.164 | Train Acc: 94.97%\n",
            "\t Val. Loss: 0.416 |  Val. Acc: 88.56%\n",
            "Saved model as bilstmptbtags2-model.pt\n",
            "Epoch: 05 | Epoch Time: 0m 5s\n",
            "\tTrain Loss: 0.134 | Train Acc: 95.83%\n",
            "\t Val. Loss: 0.400 |  Val. Acc: 89.01%\n",
            "Epoch: 06 | Epoch Time: 0m 5s\n",
            "\tTrain Loss: 0.111 | Train Acc: 96.53%\n",
            "\t Val. Loss: 0.403 |  Val. Acc: 89.15%\n",
            "Epoch: 07 | Epoch Time: 0m 5s\n",
            "\tTrain Loss: 0.091 | Train Acc: 97.18%\n",
            "\t Val. Loss: 0.401 |  Val. Acc: 89.26%\n",
            "Epoch: 08 | Epoch Time: 0m 5s\n",
            "\tTrain Loss: 0.075 | Train Acc: 97.63%\n",
            "\t Val. Loss: 0.415 |  Val. Acc: 88.97%\n",
            "Epoch: 09 | Epoch Time: 0m 5s\n",
            "\tTrain Loss: 0.062 | Train Acc: 98.05%\n",
            "\t Val. Loss: 0.433 |  Val. Acc: 88.46%\n",
            "Epoch: 10 | Epoch Time: 0m 5s\n",
            "\tTrain Loss: 0.050 | Train Acc: 98.47%\n",
            "\t Val. Loss: 0.427 |  Val. Acc: 89.25%\n",
            "\n",
            "\n",
            "\n",
            "Training BiLSTM on dataset Penn Treebanks with numsearch \n",
            "\n",
            "Saved model as bilstmptbtags3-model.pt\n",
            "Epoch: 01 | Epoch Time: 0m 5s\n",
            "\tTrain Loss: 1.094 | Train Acc: 70.78%\n",
            "\t Val. Loss: 0.540 |  Val. Acc: 85.83%\n",
            "Saved model as bilstmptbtags3-model.pt\n",
            "Epoch: 02 | Epoch Time: 0m 5s\n",
            "\tTrain Loss: 0.287 | Train Acc: 91.65%\n",
            "\t Val. Loss: 0.446 |  Val. Acc: 87.66%\n",
            "Saved model as bilstmptbtags3-model.pt\n",
            "Epoch: 03 | Epoch Time: 0m 5s\n",
            "\tTrain Loss: 0.202 | Train Acc: 93.94%\n",
            "\t Val. Loss: 0.439 |  Val. Acc: 88.11%\n",
            "Saved model as bilstmptbtags3-model.pt\n",
            "Epoch: 04 | Epoch Time: 0m 5s\n",
            "\tTrain Loss: 0.160 | Train Acc: 95.13%\n",
            "\t Val. Loss: 0.413 |  Val. Acc: 88.94%\n",
            "Saved model as bilstmptbtags3-model.pt\n",
            "Epoch: 05 | Epoch Time: 0m 5s\n",
            "\tTrain Loss: 0.131 | Train Acc: 95.96%\n",
            "\t Val. Loss: 0.404 |  Val. Acc: 89.55%\n",
            "Epoch: 06 | Epoch Time: 0m 5s\n",
            "\tTrain Loss: 0.108 | Train Acc: 96.64%\n",
            "\t Val. Loss: 0.417 |  Val. Acc: 89.12%\n",
            "Epoch: 07 | Epoch Time: 0m 5s\n",
            "\tTrain Loss: 0.088 | Train Acc: 97.28%\n",
            "\t Val. Loss: 0.408 |  Val. Acc: 89.44%\n",
            "Epoch: 08 | Epoch Time: 0m 5s\n",
            "\tTrain Loss: 0.073 | Train Acc: 97.74%\n",
            "\t Val. Loss: 0.420 |  Val. Acc: 89.84%\n",
            "Epoch: 09 | Epoch Time: 0m 5s\n",
            "\tTrain Loss: 0.058 | Train Acc: 98.22%\n",
            "\t Val. Loss: 0.432 |  Val. Acc: 89.93%\n",
            "Epoch: 10 | Epoch Time: 0m 5s\n",
            "\tTrain Loss: 0.046 | Train Acc: 98.60%\n",
            "\t Val. Loss: 0.434 |  Val. Acc: 89.66%\n",
            "\n",
            "\n",
            "\n"
          ]
        }
      ],
      "source": [
        "# Actual training instance using training data\n",
        "# Validation data is used to find the model which perform better on the validation and avoid eccessive overfitting\n",
        "\n",
        "N_EPOCHS = 10\n",
        "\n",
        "savemodel_names = []\n",
        "\n",
        "# iterates over the various dataset\n",
        "for i in range(len(corpora)):\n",
        "\n",
        "    best_valid_loss = float('inf')\n",
        "    model = modelsBiLSTM[i]\n",
        "    [train_iterator, valid_iterator, test_iterator] = iter[i]\n",
        "    TAG_PAD_IDX = tag_pads[i]\n",
        "    print(f\"Training BiLSTM on dataset {datasets_names[i]} \\n\")\n",
        "    savemodel_names.append('bilstm' + abbreviations[i] + str(i) + '-model.pt')\n",
        "\n",
        "    for epoch in range(N_EPOCHS):\n",
        "\n",
        "        start_time = time.time()\n",
        "\n",
        "        train_loss, train_acc = train(model, train_iterator, optimizers[i], criterions[i], TAG_PAD_IDX, i)\n",
        "        valid_loss, valid_acc, _ = evaluate(model, valid_iterator, criterions[i], TAG_PAD_IDX, i)\n",
        "\n",
        "        end_time = time.time()\n",
        "\n",
        "        epoch_mins, epoch_secs = epoch_time(start_time, end_time)\n",
        "\n",
        "        #If current validation loss is lower than the better so far, substitute the model with the current\n",
        "\n",
        "        if valid_loss < best_valid_loss:\n",
        "            best_valid_loss = valid_loss\n",
        "            torch.save(model.state_dict(), savemodel_names[i])\n",
        "            print(\"Saved model as \" + savemodel_names[i])\n",
        "\n",
        "        print(f'Epoch: {epoch+1:02} | Epoch Time: {epoch_mins}m {epoch_secs}s')\n",
        "        print(f'\\tTrain Loss: {train_loss:.3f} | Train Acc: {train_acc*100:.2f}%')\n",
        "        print(f'\\t Val. Loss: {valid_loss:.3f} |  Val. Acc: {valid_acc*100:.2f}%')\n",
        "    print(\"\\n\\n\")"
      ]
    },
    {
      "cell_type": "code",
      "execution_count": null,
      "metadata": {
        "id": "lWVYuxHqpwmx",
        "colab": {
          "base_uri": "https://localhost:8080/"
        },
        "outputId": "3c4c294b-0e99-47ea-d79b-ea10f1546e1f"
      },
      "outputs": [
        {
          "output_type": "stream",
          "name": "stdout",
          "text": [
            "Test Loss: 0.344 |  Test Acc: 89.78%\n",
            "Test Loss: 0.329 |  Test Acc: 90.46%\n",
            "Test Loss: 0.415 |  Test Acc: 88.84%\n",
            "Test Loss: 0.417 |  Test Acc: 89.23%\n"
          ]
        }
      ],
      "source": [
        "#Evaluation of BiLSTM on test data\n",
        "\n",
        "labels4datas = []\n",
        "\n",
        "for i in range(len(corpora)):\n",
        "\n",
        "    model = modelsBiLSTM[i]\n",
        "    model.load_state_dict(torch.load(savemodel_names[i]))\n",
        "\n",
        "    test_loss, test_acc, labels = evaluate(model, iter[i][2], criterions[i], tag_pads[i], i)\n",
        "\n",
        "    print(f'Test Loss: {test_loss:.3f} |  Test Acc: {test_acc*100:.2f}%')\n",
        "\n",
        "    labels4datas.append(labels)"
      ]
    },
    {
      "cell_type": "markdown",
      "metadata": {
        "id": "mrWSrKfjvQqX"
      },
      "source": [
        "# 5 - Testing the models without pretrained embeddings\n",
        "\n",
        "As a further analysis step of our system, we wanted to investigate and measure the effectiveness of using structured embeddigs. We did this by training a second instance of the BiLSTM, avoiding the initialization with the pretrained embeddings. This sets the weights of the Embedding layer randomly, then we train the model (including the Embedding layer weights) on the same corpora to collect the performances and compare them with the model that uses the pretrained embeddings.\n",
        "\n",
        "The cells below are identical to the cells used above to create, train and evaluate the models. The only difference can be found in the second cell, where we avoid copying the pretrained GLoVe embeddings into the weights of the Embedding layers."
      ]
    },
    {
      "cell_type": "code",
      "execution_count": null,
      "metadata": {
        "id": "WcZAFsn-vFDy"
      },
      "outputs": [],
      "source": [
        "#Declaration of the model's parameters and initialization of the model instances\n",
        "\n",
        "pad_idxs_no_emb = []\n",
        "modelsBiLSTM_no_emb = []\n",
        "\n",
        "#Create one model for each corpus in corpora\n",
        "\n",
        "for [TEXT,TAGS] in corpora:\n",
        "    INPUT_DIM = len(TEXT.vocab)\n",
        "    OUTPUT_DIM = len(TAGS.vocab)\n",
        "    PAD_IDX = TEXT.vocab.stoi[TEXT.pad_token]\n",
        "\n",
        "    model = BiLSTMPOSTagger(INPUT_DIM,\n",
        "                            EMBEDDING_DIM,\n",
        "                            HIDDEN_DIM,\n",
        "                            OUTPUT_DIM,\n",
        "                            N_LAYERS,\n",
        "                            BIDIRECTIONAL,\n",
        "                            DROPOUT,\n",
        "                            PAD_IDX)\n",
        "    pad_idxs_no_emb.append(PAD_IDX)\n",
        "    modelsBiLSTM_no_emb.append(model)\n"
      ]
    },
    {
      "cell_type": "code",
      "execution_count": null,
      "metadata": {
        "id": "G0yXj1ZSvFDy",
        "colab": {
          "base_uri": "https://localhost:8080/"
        },
        "outputId": "df0b13a4-8c97-4ab4-d2cc-fa9556b22e8e"
      },
      "outputs": [
        {
          "output_type": "stream",
          "name": "stdout",
          "text": [
            "The model 0 has 5,388,778 trainable parameters\n",
            "The model 1 has 5,302,978 trainable parameters\n",
            "The model 2 has 5,405,707 trainable parameters\n",
            "The model 3 has 5,319,907 trainable parameters\n"
          ]
        }
      ],
      "source": [
        "optimizers_no_emb = []\n",
        "criterions_no_emb = []\n",
        "\n",
        "for i in range(len(corpora)):\n",
        "    model = modelsBiLSTM_no_emb[i]\n",
        "    TAG_PAD_IDX = tag_pads[i]\n",
        "    PAD_IDX = pad_idxs_no_emb[i]\n",
        "    TEXT = corpora[i][0]\n",
        "\n",
        "    #Initialize weights randomly\n",
        "\n",
        "    model.apply(init_weights)\n",
        "    print(f'The model {i} has {count_parameters(model):,} trainable parameters')\n",
        "\n",
        "    #### Only change with respect to the cells above\n",
        "    #### The weight of the embedding layer are not initialized using the pretrained embedding\n",
        "\n",
        "    model.embedding.weight.data[PAD_IDX] = torch.zeros(EMBEDDING_DIM)\n",
        "\n",
        "    #Optimizer and Loss\n",
        "\n",
        "    optimizer = optim.Adam(model.parameters())\n",
        "    criterion = nn.CrossEntropyLoss(ignore_index = TAG_PAD_IDX)\n",
        "\n",
        "\n",
        "    model = model.to(device)\n",
        "    criterion = criterion.to(device)\n",
        "\n",
        "    optimizers_no_emb.append(optimizer)\n",
        "    criterions_no_emb.append(criterion)"
      ]
    },
    {
      "cell_type": "code",
      "execution_count": null,
      "metadata": {
        "id": "MW3zRgSrvFDz",
        "colab": {
          "base_uri": "https://localhost:8080/"
        },
        "outputId": "8a3d4a55-3606-403e-9390-d091d6e26649"
      },
      "outputs": [
        {
          "output_type": "stream",
          "name": "stdout",
          "text": [
            "Training BiLSTM on dataset Universal Dependencies \n",
            "\n",
            "Saved model as bilstmudtags0-model.pt\n",
            "Epoch: 01 | Epoch Time: 0m 5s\n",
            "\tTrain Loss: 1.111 | Train Acc: 65.31%\n",
            "\t Val. Loss: 0.585 |  Val. Acc: 84.01%\n",
            "Saved model as bilstmudtags0-model.pt\n",
            "Epoch: 02 | Epoch Time: 0m 5s\n",
            "\tTrain Loss: 0.268 | Train Acc: 91.68%\n",
            "\t Val. Loss: 0.458 |  Val. Acc: 86.66%\n",
            "Saved model as bilstmudtags0-model.pt\n",
            "Epoch: 03 | Epoch Time: 0m 5s\n",
            "\tTrain Loss: 0.169 | Train Acc: 94.69%\n",
            "\t Val. Loss: 0.413 |  Val. Acc: 89.06%\n",
            "Saved model as bilstmudtags0-model.pt\n",
            "Epoch: 04 | Epoch Time: 0m 5s\n",
            "\tTrain Loss: 0.128 | Train Acc: 95.89%\n",
            "\t Val. Loss: 0.406 |  Val. Acc: 89.32%\n",
            "Saved model as bilstmudtags0-model.pt\n",
            "Epoch: 05 | Epoch Time: 0m 5s\n",
            "\tTrain Loss: 0.101 | Train Acc: 96.77%\n",
            "\t Val. Loss: 0.405 |  Val. Acc: 89.31%\n",
            "Epoch: 06 | Epoch Time: 0m 5s\n",
            "\tTrain Loss: 0.077 | Train Acc: 97.55%\n",
            "\t Val. Loss: 0.410 |  Val. Acc: 89.54%\n",
            "Epoch: 07 | Epoch Time: 0m 5s\n",
            "\tTrain Loss: 0.058 | Train Acc: 98.19%\n",
            "\t Val. Loss: 0.413 |  Val. Acc: 89.54%\n",
            "Epoch: 08 | Epoch Time: 0m 5s\n",
            "\tTrain Loss: 0.044 | Train Acc: 98.60%\n",
            "\t Val. Loss: 0.428 |  Val. Acc: 89.77%\n",
            "Epoch: 09 | Epoch Time: 0m 5s\n",
            "\tTrain Loss: 0.033 | Train Acc: 98.97%\n",
            "\t Val. Loss: 0.454 |  Val. Acc: 89.79%\n",
            "Epoch: 10 | Epoch Time: 0m 5s\n",
            "\tTrain Loss: 0.026 | Train Acc: 99.22%\n",
            "\t Val. Loss: 0.458 |  Val. Acc: 89.81%\n",
            "\n",
            "\n",
            "\n",
            "Training BiLSTM on dataset Universal Dependencies with numsearch \n",
            "\n",
            "Saved model as bilstmudtags1-model.pt\n",
            "Epoch: 01 | Epoch Time: 0m 5s\n",
            "\tTrain Loss: 1.066 | Train Acc: 66.69%\n",
            "\t Val. Loss: 0.550 |  Val. Acc: 83.20%\n",
            "Saved model as bilstmudtags1-model.pt\n",
            "Epoch: 02 | Epoch Time: 0m 5s\n",
            "\tTrain Loss: 0.254 | Train Acc: 92.07%\n",
            "\t Val. Loss: 0.428 |  Val. Acc: 86.42%\n",
            "Saved model as bilstmudtags1-model.pt\n",
            "Epoch: 03 | Epoch Time: 0m 5s\n",
            "\tTrain Loss: 0.162 | Train Acc: 94.91%\n",
            "\t Val. Loss: 0.391 |  Val. Acc: 88.35%\n",
            "Saved model as bilstmudtags1-model.pt\n",
            "Epoch: 04 | Epoch Time: 0m 5s\n",
            "\tTrain Loss: 0.122 | Train Acc: 96.08%\n",
            "\t Val. Loss: 0.386 |  Val. Acc: 88.00%\n",
            "Saved model as bilstmudtags1-model.pt\n",
            "Epoch: 05 | Epoch Time: 0m 5s\n",
            "\tTrain Loss: 0.094 | Train Acc: 96.97%\n",
            "\t Val. Loss: 0.376 |  Val. Acc: 89.32%\n",
            "Epoch: 06 | Epoch Time: 0m 5s\n",
            "\tTrain Loss: 0.072 | Train Acc: 97.71%\n",
            "\t Val. Loss: 0.390 |  Val. Acc: 88.94%\n",
            "Epoch: 07 | Epoch Time: 0m 5s\n",
            "\tTrain Loss: 0.054 | Train Acc: 98.30%\n",
            "\t Val. Loss: 0.400 |  Val. Acc: 89.79%\n",
            "Epoch: 08 | Epoch Time: 0m 5s\n",
            "\tTrain Loss: 0.041 | Train Acc: 98.72%\n",
            "\t Val. Loss: 0.432 |  Val. Acc: 88.75%\n",
            "Epoch: 09 | Epoch Time: 0m 5s\n",
            "\tTrain Loss: 0.031 | Train Acc: 99.02%\n",
            "\t Val. Loss: 0.433 |  Val. Acc: 89.82%\n",
            "Epoch: 10 | Epoch Time: 0m 5s\n",
            "\tTrain Loss: 0.024 | Train Acc: 99.28%\n",
            "\t Val. Loss: 0.443 |  Val. Acc: 89.58%\n",
            "\n",
            "\n",
            "\n",
            "Training BiLSTM on dataset Penn Treebanks \n",
            "\n",
            "Saved model as bilstmptbtags2-model.pt\n",
            "Epoch: 01 | Epoch Time: 0m 5s\n",
            "\tTrain Loss: 1.544 | Train Acc: 58.42%\n",
            "\t Val. Loss: 0.848 |  Val. Acc: 80.82%\n",
            "Saved model as bilstmptbtags2-model.pt\n",
            "Epoch: 02 | Epoch Time: 0m 5s\n",
            "\tTrain Loss: 0.366 | Train Acc: 89.48%\n",
            "\t Val. Loss: 0.588 |  Val. Acc: 85.86%\n",
            "Saved model as bilstmptbtags2-model.pt\n",
            "Epoch: 03 | Epoch Time: 0m 5s\n",
            "\tTrain Loss: 0.212 | Train Acc: 93.79%\n",
            "\t Val. Loss: 0.530 |  Val. Acc: 86.74%\n",
            "Saved model as bilstmptbtags2-model.pt\n",
            "Epoch: 04 | Epoch Time: 0m 5s\n",
            "\tTrain Loss: 0.157 | Train Acc: 95.25%\n",
            "\t Val. Loss: 0.508 |  Val. Acc: 87.21%\n",
            "Saved model as bilstmptbtags2-model.pt\n",
            "Epoch: 05 | Epoch Time: 0m 5s\n",
            "\tTrain Loss: 0.123 | Train Acc: 96.24%\n",
            "\t Val. Loss: 0.495 |  Val. Acc: 87.21%\n",
            "Epoch: 06 | Epoch Time: 0m 5s\n",
            "\tTrain Loss: 0.097 | Train Acc: 97.07%\n",
            "\t Val. Loss: 0.507 |  Val. Acc: 86.94%\n",
            "Epoch: 07 | Epoch Time: 0m 5s\n",
            "\tTrain Loss: 0.074 | Train Acc: 97.73%\n",
            "\t Val. Loss: 0.511 |  Val. Acc: 87.12%\n",
            "Epoch: 08 | Epoch Time: 0m 5s\n",
            "\tTrain Loss: 0.056 | Train Acc: 98.31%\n",
            "\t Val. Loss: 0.520 |  Val. Acc: 86.97%\n",
            "Epoch: 09 | Epoch Time: 0m 5s\n",
            "\tTrain Loss: 0.043 | Train Acc: 98.74%\n",
            "\t Val. Loss: 0.542 |  Val. Acc: 86.99%\n",
            "Epoch: 10 | Epoch Time: 0m 5s\n",
            "\tTrain Loss: 0.032 | Train Acc: 99.08%\n",
            "\t Val. Loss: 0.545 |  Val. Acc: 87.04%\n",
            "\n",
            "\n",
            "\n",
            "Training BiLSTM on dataset Penn Treebanks with numsearch \n",
            "\n",
            "Saved model as bilstmptbtags3-model.pt\n",
            "Epoch: 01 | Epoch Time: 0m 5s\n",
            "\tTrain Loss: 1.536 | Train Acc: 58.58%\n",
            "\t Val. Loss: 0.821 |  Val. Acc: 80.99%\n",
            "Saved model as bilstmptbtags3-model.pt\n",
            "Epoch: 02 | Epoch Time: 0m 5s\n",
            "\tTrain Loss: 0.361 | Train Acc: 89.67%\n",
            "\t Val. Loss: 0.567 |  Val. Acc: 86.43%\n",
            "Saved model as bilstmptbtags3-model.pt\n",
            "Epoch: 03 | Epoch Time: 0m 5s\n",
            "\tTrain Loss: 0.211 | Train Acc: 93.82%\n",
            "\t Val. Loss: 0.507 |  Val. Acc: 87.42%\n",
            "Saved model as bilstmptbtags3-model.pt\n",
            "Epoch: 04 | Epoch Time: 0m 5s\n",
            "\tTrain Loss: 0.156 | Train Acc: 95.28%\n",
            "\t Val. Loss: 0.489 |  Val. Acc: 87.86%\n",
            "Saved model as bilstmptbtags3-model.pt\n",
            "Epoch: 05 | Epoch Time: 0m 5s\n",
            "\tTrain Loss: 0.122 | Train Acc: 96.25%\n",
            "\t Val. Loss: 0.482 |  Val. Acc: 88.01%\n",
            "Saved model as bilstmptbtags3-model.pt\n",
            "Epoch: 06 | Epoch Time: 0m 5s\n",
            "\tTrain Loss: 0.096 | Train Acc: 97.07%\n",
            "\t Val. Loss: 0.479 |  Val. Acc: 88.00%\n",
            "Epoch: 07 | Epoch Time: 0m 5s\n",
            "\tTrain Loss: 0.074 | Train Acc: 97.73%\n",
            "\t Val. Loss: 0.488 |  Val. Acc: 87.99%\n",
            "Epoch: 08 | Epoch Time: 0m 5s\n",
            "\tTrain Loss: 0.056 | Train Acc: 98.32%\n",
            "\t Val. Loss: 0.512 |  Val. Acc: 87.58%\n",
            "Epoch: 09 | Epoch Time: 0m 5s\n",
            "\tTrain Loss: 0.043 | Train Acc: 98.70%\n",
            "\t Val. Loss: 0.533 |  Val. Acc: 87.59%\n",
            "Epoch: 10 | Epoch Time: 0m 5s\n",
            "\tTrain Loss: 0.033 | Train Acc: 99.03%\n",
            "\t Val. Loss: 0.535 |  Val. Acc: 87.62%\n",
            "\n",
            "\n",
            "\n"
          ]
        }
      ],
      "source": [
        "# Actual training instance using training data\n",
        "# Validation data is used to find the model which perform better on the validation and avoid eccessive overfitting by doing so\n",
        "\n",
        "N_EPOCHS = 10\n",
        "\n",
        "savemodel_names_no_emb = []\n",
        "\n",
        "for i in range(len(corpora)):\n",
        "\n",
        "    best_valid_loss = float('inf')\n",
        "    model = modelsBiLSTM_no_emb[i]\n",
        "    [train_iterator, valid_iterator, test_iterator] = iter[i]\n",
        "    TAG_PAD_IDX = tag_pads[i]\n",
        "    print(f\"Training BiLSTM on dataset {datasets_names[i]} \\n\")\n",
        "    savemodel_names_no_emb.append('bilstm' + abbreviations[i] + str(i) + '-model.pt')\n",
        "\n",
        "    for epoch in range(N_EPOCHS):\n",
        "\n",
        "        start_time = time.time()\n",
        "\n",
        "        train_loss, train_acc = train(model, train_iterator, optimizers_no_emb[i], criterions_no_emb[i], TAG_PAD_IDX, i)\n",
        "        valid_loss, valid_acc, _ = evaluate(model, valid_iterator, criterions_no_emb[i], TAG_PAD_IDX, i)\n",
        "\n",
        "        end_time = time.time()\n",
        "\n",
        "        epoch_mins, epoch_secs = epoch_time(start_time, end_time)\n",
        "\n",
        "        #If current validation loss is lower than the better so far, substitute the model with the current\n",
        "\n",
        "        if valid_loss < best_valid_loss:\n",
        "            best_valid_loss = valid_loss\n",
        "            torch.save(model.state_dict(), savemodel_names_no_emb[i])\n",
        "            print(\"Saved model as \" + savemodel_names_no_emb[i])\n",
        "\n",
        "        print(f'Epoch: {epoch+1:02} | Epoch Time: {epoch_mins}m {epoch_secs}s')\n",
        "        print(f'\\tTrain Loss: {train_loss:.3f} | Train Acc: {train_acc*100:.2f}%')\n",
        "        print(f'\\t Val. Loss: {valid_loss:.3f} |  Val. Acc: {valid_acc*100:.2f}%')\n",
        "    print(\"\\n\\n\")\n",
        "\n"
      ]
    },
    {
      "cell_type": "code",
      "execution_count": null,
      "metadata": {
        "id": "qMXTbkqVvFDz",
        "colab": {
          "base_uri": "https://localhost:8080/"
        },
        "outputId": "ed797ee0-1cc8-4ef1-f10f-c689d4cd639e"
      },
      "outputs": [
        {
          "output_type": "stream",
          "name": "stdout",
          "text": [
            "Test Loss: 0.420 |  Test Acc: 88.85%\n",
            "Test Loss: 0.389 |  Test Acc: 88.43%\n",
            "Test Loss: 0.542 |  Test Acc: 86.69%\n",
            "Test Loss: 0.509 |  Test Acc: 87.84%\n"
          ]
        }
      ],
      "source": [
        "#Evaluation of BiLSTM on training data\n",
        "\n",
        "labels4datas_no_emb = []\n",
        "\n",
        "for i in range(len(corpora)):\n",
        "\n",
        "    model = modelsBiLSTM_no_emb[i]\n",
        "    model.load_state_dict(torch.load(savemodel_names_no_emb[i]))\n",
        "\n",
        "    test_loss, test_acc, labels = evaluate(model, iter[i][2], criterions_no_emb[i], tag_pads[i], i)\n",
        "\n",
        "    print(f'Test Loss: {test_loss:.3f} |  Test Acc: {test_acc*100:.2f}%')\n",
        "\n",
        "    labels4datas_no_emb.append(labels)"
      ]
    },
    {
      "cell_type": "markdown",
      "metadata": {
        "id": "MXY983y1t7TQ"
      },
      "source": [
        "# 6 - System Analysis and Results Comparison\n",
        "We evaluate our PoS tagging system and its variations by taking as reference metric the **accuracy** on the test set (percentage of test\n",
        "set tags that match human gold labels) computed by the function *categorical_accuracy* to make comparisons across different variation and with the baseline.\n",
        "\n",
        "1. #### Baseline - Most Frequent Class and Baseline_num\n",
        "We report the accuracy of the baseline described in Section 3 (which has no uncertainty due to the deterministic approach it is based on) and also of its correspective trained and tested on the numsearch-preprocessed datasets.\n",
        "\n",
        "\n",
        "2. #### BiLSTM1 - GloVe 840B 300d, 2 layers, 256 hidden states, 0.125 dropout\n",
        "The second part of the system we evaluate is the BiLSTM whose architecture is described by the table below, where V is the size of the vocabulary and T the size of the tagset. The model's parameters have been set after evaluating several model with different combinations of parameters in a 4-dimensional grid. The hyperparameters of the model used in the final implementation are the ones which had the best performance on the validation set.\n",
        "\n",
        " The embeddings used are the GloVe 840B 300d, i.e. a set of embeddings for 840 billion words using 300 features each, obtained with the GloVe method. The other options we tried were Char N-gram 100d (100-dimensional N-grams), English fastText 300d (300-dimensional fastText for english) and Glove 6B 100d (embeddings for 6 billion words with dimension 100 using GloVe), but Glove 840B 300d turned out to have the best performances. It should be mentioned that numsearch preprocessing had almost no effect on the system when fastText was used. This could be explained considering the subword-based strategy used by such type of neural embedding, which is probably better at generalizing numerical tokens.\n",
        "<br>\n",
        "\n",
        "|| Input dim |Output dim | Dropout|\n",
        "| ----- | ----- | ----- | ----- |\n",
        "| Embedding | V | 300 | 0 |\n",
        "| BiLSTM | 300 | 256 (x2) |0.125|\n",
        "| Linear | 256 (x2) | T |0.125|\n",
        "\n",
        "<br>\n",
        "\n",
        "3. #### BiLSTM_num - BiLSTM with numsearch preprocessing\n",
        "We evaluate the system variation where we use the architecture described at the previous point, on the datasets we preprocessed with the numsearch function. We expect to have a slightly higher accuracy due to the fact that the numerical tokens label prediction is facilitated.\n",
        "<br>\n",
        "\n",
        "4. #### BiLSTM_noemb - BiLSTM with random initialization\n",
        "Another version of our system makes use of the previously introduced random weight initialization in the embedding layer instead of the pre-trained embeddings (Section 5). We expect this model to perform worse than the previous two due to the fact that the first layer does not inherit general contextual nor lexical semantic information before training, as it does in other cases.  \n",
        "<br><br>\n",
        "\n",
        "\n"
      ]
    },
    {
      "cell_type": "markdown",
      "source": [
        "\n",
        "## Accuracy\n",
        "\n",
        "The results of the accuracy for each model on each dataset are reported in the table below.\n",
        "They confirm the hypotheses on their behaviour: BiLSTM_noemb has the worst accuracy across the variations, but it gets higher including the structured embeddings in BiLSTM1, then improves again with the numsearch preprocessing. Generally, performances were better for the UD tagset compared with the PTB tagset, due to its way lower cardinality.  Regardless, they all perform better than the baseline, which satisfies the condition in Section 3.\n",
        "\n",
        "\n",
        "We can observe that the baseline model is the one that improves the most when we add the numsearch preprocessing. This is because numerical tokens that had frequency lower than MIN_FREQ were all converted to \\<unk\\>. In the end \\<unk\\> had a lot of possible tags and only the most frequent was actually assigned (which was in fact NOUN/NNP), causing misclassification of all the numerical tokens with low frequency (their number is around 600, comparing the vocabulary sizes before and after preprocessing). By using numsearch, we incorporate those tokens under a single token with high frequency and unambiguous tag that is easily predictable as NUM/CD by the baseline. This is also valid in a different and less strong way for the BiLSTM, as the \\<unk\\> token has an embedding obtained from totally different context that results in high uncertainty and a more flattened tag probabilities distribution.\n",
        "\n",
        "<br>\n",
        "\n",
        "\n",
        "|| Universal Dependencies | Penn Treebank | Average over corpora\n",
        "| --- | --- | --- | --- |\n",
        "| Baseline | 84.58% | 83.72% | 84.15%\n",
        "| Baseline_num | 85.27% | 84.40%|  84.83%\n",
        "|BiLSTM1| 89.64% ± 0.5%| 88.84% ± 0.5%| 89.24%\n",
        "|BiLSTM_num| 90.33% ± 0.5%| 89.27% ± 0.5%| 89.80%\n",
        "|BiLSTM_noemb| 87.12% ± 0.5%| 87.21% ± 0.5%| 87.17%\n",
        "\n",
        "<br>\n",
        "\n",
        "We set the minimum frequency at MIN_FREQ = 2 after evaluating also MIN_FREQ = 1 and MIN_FREQ = 3 as possible options and collecting the accuracy in a similar way, which is displayed underneath. We observed that among the discarded options, MIN_FREQ = 1 caused the baseline to have higher accuracy (due to having less \\<unk\\> words mapped all into the most frequent tag) and BiLSTM1 to have it lower (almost like the baseline) due to the higher number of words that occur rarely. On the other hand, MIN_FREQ = 3 caused the baseline to lose around 2% accuracy and BiLSTM1 to lose around 0.5% as well (with respect to the performance with MIN_FREQ = 2). This shows that BiLSTM models are able to counteract the high number of unknown tokens much better than the simple baseline model, thanks to the ability of the neural model to consider the context of the tokens while doing predictions.\n",
        "<br>\n",
        "\n",
        "|||||||||minimum frequency: 1| |minimum frequency: 3|\n",
        "| --- | --- | --- | --- | --- | --- | --- | --- | --- | --- | --- |\n",
        "\n",
        "|  |  | UD |PTB | UD |PTB |\n",
        "| --- | --- | --- | --- | --- | --- |\n",
        "| Baseline | | 86.15% | 84.95% | 83.95% | 81.79%||||\n",
        "| Baseline_num | | 86.76% | 85.56% | 84.67%|  82.52%||||\n",
        "|BiLSTM1| | 86.88% ± 0.5% | 86.71% ± 0.5%| 89.38% ± 0.5%| 88.22% ± 0.5%||||\n",
        "|BiLSTM_num| | 90.07% ± 0.5% | 86.89% ± 0.5%| 90.10% ± 0.5%| 88.72% ± 0.5%||||"
      ],
      "metadata": {
        "id": "wJkTtkYaOiAA"
      }
    },
    {
      "cell_type": "markdown",
      "metadata": {
        "id": "wUZcc_MXJzdP"
      },
      "source": [
        "## Confusion Matrix\n",
        "\n",
        "At last, we generate the normalized Confusion Matrix of the Pos tags predictions of the system on both Universal Dependencies and Penn Treebank, non-preprocessed and preprocessed (hence, the predictions belong to BiLSTM1 and BiLSTM_num). The matrices are very informative (we printed the numerical values only for the UD ones for visualization reasons), they are both dominant along the main diagonal which is proof of a correct predictive behavior. The most relevant false predictions in the Universal Dependencies (e.g. counts not on the main diagonal) arise from misclassification of NOUN into PROPN and vice versa, neverthless it is not that high considering the complexive number of NOUN and PROPN correctly classified (nearly 10 times more). In the Penn Treebank dataset, the only non-negligible misclassification is relative to NNP as NN and vice versa, which is understandable from a linguistic point of view, and around 10% of the correct ones anyway.\n",
        "\n",
        "We observe that adding the numsearch preprocessing moved a certain amount of predictions, for the relative numerical tag, into the main diagonal (38 in UD, 60 in PTB, i.e. 5-15% of the total) and out of the vertical and horizontal axes regardless, confirming the disambiguating effect of the technique.\n"
      ]
    },
    {
      "cell_type": "code",
      "execution_count": null,
      "metadata": {
        "id": "-1FAmb7BmxBS",
        "colab": {
          "base_uri": "https://localhost:8080/",
          "height": 1000
        },
        "outputId": "2a1d789b-a7e0-4ae6-ceca-3dc39fee0f6b"
      },
      "outputs": [
        {
          "output_type": "display_data",
          "data": {
            "text/plain": [
              "<Figure size 1440x1440 with 8 Axes>"
            ],
            "image/png": "[encoded data removed]"
          },
          "metadata": {
            "needs_background": "light"
          }
        }
      ],
      "source": [
        "fig, axes = plt.subplots(nrows=ceil(len(datasets_names)/2), ncols=2, figsize=(20, 20))\n",
        "\n",
        "predicted_tags_vec = []\n",
        "\n",
        "for i in range(len(datasets_names)):\n",
        "  ax = axes[floor(i/2), i%2]\n",
        "  ax.set_xlabel('$Predicted tags$')\n",
        "  ax.set_ylabel('$True tags$')\n",
        "\n",
        "  labels = labels4datas[i]\n",
        "\n",
        "  predicted_labels_list = []\n",
        "  true_labels_list = []\n",
        "\n",
        "  for batch in labels:\n",
        "      predicted_labels_list.extend(batch[0].squeeze(1).tolist())\n",
        "      true_labels_list.extend(batch[1].squeeze(1).tolist())\n",
        "\n",
        "\n",
        "\n",
        "  index_to_tag = corpora[i][1].vocab.itos\n",
        "\n",
        "  predicted_tags = [index_to_tag[j] for j in predicted_labels_list]\n",
        "  true_tags = [index_to_tag[j] for j in true_labels_list]\n",
        "  predicted_tags_vec.append(predicted_tags)\n",
        "\n",
        "  #Generate the confusion matrix\n",
        "\n",
        "  disp = ConfusionMatrixDisplay.from_predictions(true_tags,\n",
        "                                                 predicted_tags,\n",
        "                                                 ax = ax,\n",
        "                                                 xticks_rotation=\"vertical\",\n",
        "                                                 include_values = True if (datasets_names[i] == \"Universal Dependencies\" or\n",
        "                                                                           datasets_names[i] == \"Universal Dependencies with numsearch\")\n",
        "                                                                       else False,\n",
        "                                                 cmap = 'jet'\n",
        "                                                 )\n",
        "\n",
        "  ax.set_title(f\"Confusion matrix for dataset {datasets_names[i]}\")\n",
        "\n",
        "\n",
        "\n",
        "plt.show()"
      ]
    },
    {
      "cell_type": "markdown",
      "source": [
        "# 7 - Conclusion\n",
        "\n",
        "Given the results obtained from the previous section, we have been able to analyse interesting properties of the corpora and of the models. We showed an easily implementable baseline, its properties and performance, then we did the same for a Neural PoS tagger which is the foundation of many state-of-the-art models. We worked on their features to model their behavior and target possible strenghts and weaknesses, and added a preprocessing step for disambiguating predictions by including the human ability to generalize numerical words, and showed its influence on the models. On the top of this, we found that the system we implemented showed fairly good performances and properties in the part-of-speech tagging task on different corpora, and can be easily expanded to reach further improvements."
      ],
      "metadata": {
        "id": "SUtRGhqk6AYE"
      }
    }
  ],
  "metadata": {
    "colab": {
      "provenance": [],
      "toc_visible": true,
      "include_colab_link": true
    },
    "gpuClass": "standard",
    "kernelspec": {
      "display_name": "Python 3",
      "name": "python3"
    },
    "language_info": {
      "name": "python"
    },
    "accelerator": "GPU"
  },
  "nbformat": 4,
  "nbformat_minor": 0
}